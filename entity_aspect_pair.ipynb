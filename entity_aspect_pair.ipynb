{
  "nbformat": 4,
  "nbformat_minor": 0,
  "metadata": {
    "colab": {
      "name": "entity-aspect-pair.ipynb",
      "provenance": [],
      "toc_visible": true,
      "authorship_tag": "ABX9TyPJDXbE6wvwzo5NgwEKJYsQ",
      "include_colab_link": true
    },
    "kernelspec": {
      "name": "python3",
      "display_name": "Python 3"
    }
  },
  "cells": [
    {
      "cell_type": "markdown",
      "metadata": {
        "id": "view-in-github",
        "colab_type": "text"
      },
      "source": [
        "<a href=\"https://colab.research.google.com/github/Juuliee/ABSA-PyTorch/blob/master/entity_aspect_pair.ipynb\" target=\"_parent\"><img src=\"https://colab.research.google.com/assets/colab-badge.svg\" alt=\"Open In Colab\"/></a>"
      ]
    },
    {
      "cell_type": "markdown",
      "metadata": {
        "id": "_JI3_4n_UMjt",
        "colab_type": "text"
      },
      "source": [
        "## Google Drive"
      ]
    },
    {
      "cell_type": "code",
      "metadata": {
        "id": "icklyXJ6TqPO",
        "colab_type": "code",
        "colab": {
          "base_uri": "https://localhost:8080/",
          "height": 34
        },
        "outputId": "3e8dd167-47e3-4cdd-fe8e-e94ff28be863"
      },
      "source": [
        "from google.colab import drive\n",
        "drive.mount('/content/drive/')"
      ],
      "execution_count": 1,
      "outputs": [
        {
          "output_type": "stream",
          "text": [
            "Mounted at /content/drive/\n"
          ],
          "name": "stdout"
        }
      ]
    },
    {
      "cell_type": "markdown",
      "metadata": {
        "id": "gyzu3w5eU8CZ",
        "colab_type": "text"
      },
      "source": [
        "## Import Packages"
      ]
    },
    {
      "cell_type": "code",
      "metadata": {
        "id": "NlrLiS-wU6QC",
        "colab_type": "code",
        "colab": {}
      },
      "source": [
        "import pandas as pd\n",
        "import numpy as np"
      ],
      "execution_count": 2,
      "outputs": []
    },
    {
      "cell_type": "markdown",
      "metadata": {
        "id": "ggXSuRGUUvJ6",
        "colab_type": "text"
      },
      "source": [
        "## Import Data\n",
        "\n",
        "without unnecessary rows and columns."
      ]
    },
    {
      "cell_type": "code",
      "metadata": {
        "colab_type": "code",
        "id": "O4y0R3_KpGuL",
        "colab": {}
      },
      "source": [
        "original_data = pd.read_excel('/content/drive/My Drive/Review Classifier - Trainingsset-CCG-3.xlsx')"
      ],
      "execution_count": 123,
      "outputs": []
    },
    {
      "cell_type": "code",
      "metadata": {
        "id": "zG0LwJoU1WoQ",
        "colab_type": "code",
        "colab": {
          "base_uri": "https://localhost:8080/",
          "height": 102
        },
        "outputId": "f272b425-dc18-4eab-ed8a-646ead5f268c"
      },
      "source": [
        "print(original_data[original_data.duplicated(keep= False)]) # row 194 and 202 duplicate"
      ],
      "execution_count": 124,
      "outputs": [
        {
          "output_type": "stream",
          "text": [
            "       Review Aspect Aspect 1  ... Aspect 3 Sentiment Aspect 3 Sub-category Aspect 3\n",
            "194  Gute app    NaN      NaN  ...      NaN                NaN                   NaN\n",
            "202  Gute app    NaN      NaN  ...      NaN                NaN                   NaN\n",
            "\n",
            "[2 rows x 11 columns]\n"
          ],
          "name": "stdout"
        }
      ]
    },
    {
      "cell_type": "code",
      "metadata": {
        "colab_type": "code",
        "id": "g_9WoS6FfEO3",
        "colab": {}
      },
      "source": [
        "def drop_rows(my_data):\n",
        "\n",
        "    lorem_indices = my_data[my_data[\"Feedback\"] == ' Lorem ipsum dolor sit amet\\\\\\\\  consectetur adipiscing elit. '].index\n",
        "    new_data = my_data.drop(lorem_indices)\n",
        "    new_data.drop_duplicates(inplace=True,ignore_index=True)\n",
        "    new_data.reset_index(drop=True, inplace=True)\n",
        "\n",
        "    return new_data"
      ],
      "execution_count": 125,
      "outputs": []
    },
    {
      "cell_type": "code",
      "metadata": {
        "id": "Smfgh8P-jwTJ",
        "colab_type": "code",
        "colab": {}
      },
      "source": [
        "entity_data = original_data.rename(columns={\"Review\": \"Feedback\", \"Aspect 1\": \"Aspect_1\", \"Sentiment Aspect 1\": \"Sentiment_1\", \"Aspect 2\": \"Aspect_2\", \"Sentiment Aspect 2\": \"Sentiment_2\", \"Aspect 3\": \"Aspect_3\", \"Sentiment Aspect 3\": \"Sentiment_3\", \"Sub-category Aspect 1\": \"Entity_1\", \"Sub-category Aspect 2\": \"Entity_2\", \"Sub-category Aspect 3\": \"Entity_3\"})\n",
        "entity_data = drop_rows(entity_data)"
      ],
      "execution_count": 126,
      "outputs": []
    },
    {
      "cell_type": "markdown",
      "metadata": {
        "id": "GugT3jFSxDrJ",
        "colab_type": "text"
      },
      "source": [
        "## Remove special characters"
      ]
    },
    {
      "cell_type": "code",
      "metadata": {
        "id": "rQSO6SmaxDKg",
        "colab_type": "code",
        "colab": {}
      },
      "source": [
        "def remove_special_characters(my_data):\n",
        "\n",
        "    my_data[\"Feedback\"] = my_data[\"Feedback\"].str.replace('_',' ').str.replace('\\\\\\\\','')\n",
        "    my_data[\"Feedback\"] = my_data[\"Feedback\"].str.replace('<br>',' ')\n",
        "    my_data[\"Feedback\"] = my_data[\"Feedback\"].str.lstrip().str.rstrip() # remove leading and trailing whitespaces\n",
        "\n",
        "    return my_data"
      ],
      "execution_count": 127,
      "outputs": []
    },
    {
      "cell_type": "code",
      "metadata": {
        "id": "nlHVVQXMkO2i",
        "colab_type": "code",
        "colab": {}
      },
      "source": [
        "entity_data = remove_special_characters(entity_data)"
      ],
      "execution_count": 128,
      "outputs": []
    },
    {
      "cell_type": "markdown",
      "metadata": {
        "id": "63co6Fa-4A0z",
        "colab_type": "text"
      },
      "source": [
        "## Filter data\n",
        "\n",
        "Use only entity-relevant rows.\n"
      ]
    },
    {
      "cell_type": "code",
      "metadata": {
        "id": "LL-4cgwd-Mqc",
        "colab_type": "code",
        "colab": {
          "base_uri": "https://localhost:8080/",
          "height": 589
        },
        "outputId": "1e4c5c8c-881a-4795-a847-2d32662d27bd"
      },
      "source": [
        "entity_train =entity_data[~entity_data.Entity_1.isnull()]\n",
        "entity_train.reset_index(drop=True, inplace=True)"
      ],
      "execution_count": 184,
      "outputs": [
        {
          "output_type": "execute_result",
          "data": {
            "text/html": [
              "<div>\n",
              "<style scoped>\n",
              "    .dataframe tbody tr th:only-of-type {\n",
              "        vertical-align: middle;\n",
              "    }\n",
              "\n",
              "    .dataframe tbody tr th {\n",
              "        vertical-align: top;\n",
              "    }\n",
              "\n",
              "    .dataframe thead th {\n",
              "        text-align: right;\n",
              "    }\n",
              "</style>\n",
              "<table border=\"1\" class=\"dataframe\">\n",
              "  <thead>\n",
              "    <tr style=\"text-align: right;\">\n",
              "      <th></th>\n",
              "      <th>Feedback</th>\n",
              "      <th>Aspect</th>\n",
              "      <th>Aspect_1</th>\n",
              "      <th>Sentiment_1</th>\n",
              "      <th>Entity_1</th>\n",
              "      <th>Aspect_2</th>\n",
              "      <th>Sentiment_2</th>\n",
              "      <th>Entity_2</th>\n",
              "      <th>Aspect_3</th>\n",
              "      <th>Sentiment_3</th>\n",
              "      <th>Entity_3</th>\n",
              "    </tr>\n",
              "  </thead>\n",
              "  <tbody>\n",
              "    <tr>\n",
              "      <th>0</th>\n",
              "      <td>Ich war bei einem großen deutschen Versicherun...</td>\n",
              "      <td>Beiträge,Geld</td>\n",
              "      <td>Beitrag</td>\n",
              "      <td>neutral</td>\n",
              "      <td>Preis</td>\n",
              "      <td>Geld</td>\n",
              "      <td>positive</td>\n",
              "      <td>Preis</td>\n",
              "      <td>NaN</td>\n",
              "      <td>NaN</td>\n",
              "      <td>NaN</td>\n",
              "    </tr>\n",
              "    <tr>\n",
              "      <th>1</th>\n",
              "      <td>Lt. HUK-Schreiben benötige ich die Super-PIN u...</td>\n",
              "      <td>Bereich,Problem</td>\n",
              "      <td>Bereich</td>\n",
              "      <td>neutral</td>\n",
              "      <td>Beratung</td>\n",
              "      <td>Problem</td>\n",
              "      <td>negative</td>\n",
              "      <td>Problemlösung</td>\n",
              "      <td>NaN</td>\n",
              "      <td>NaN</td>\n",
              "      <td>NaN</td>\n",
              "    </tr>\n",
              "    <tr>\n",
              "      <th>2</th>\n",
              "      <td>Bisher eine unkomplizierte Abwicklung - auch i...</td>\n",
              "      <td>Abwicklung,Schadensfall</td>\n",
              "      <td>Abwicklung</td>\n",
              "      <td>positive</td>\n",
              "      <td>Leistung</td>\n",
              "      <td>Schadensfall</td>\n",
              "      <td>positive</td>\n",
              "      <td>Leistung</td>\n",
              "      <td>NaN</td>\n",
              "      <td>NaN</td>\n",
              "      <td>NaN</td>\n",
              "    </tr>\n",
              "    <tr>\n",
              "      <th>3</th>\n",
              "      <td>Schnelle Beratung und Erstellung der eVB  samt...</td>\n",
              "      <td>Beratung,Unterlagen</td>\n",
              "      <td>Beratung</td>\n",
              "      <td>positive</td>\n",
              "      <td>Beratung</td>\n",
              "      <td>Unterlagen</td>\n",
              "      <td>positive</td>\n",
              "      <td>Erreichbarkeit</td>\n",
              "      <td>NaN</td>\n",
              "      <td>NaN</td>\n",
              "      <td>NaN</td>\n",
              "    </tr>\n",
              "    <tr>\n",
              "      <th>4</th>\n",
              "      <td>Der Service der RechnungsApp ist super. Die Be...</td>\n",
              "      <td>Service,Bearbeitung</td>\n",
              "      <td>Service</td>\n",
              "      <td>positive</td>\n",
              "      <td>Erreichbarkeit</td>\n",
              "      <td>Bearbeitung</td>\n",
              "      <td>positive</td>\n",
              "      <td>Erreichbarkeit</td>\n",
              "      <td>NaN</td>\n",
              "      <td>NaN</td>\n",
              "      <td>NaN</td>\n",
              "    </tr>\n",
              "    <tr>\n",
              "      <th>...</th>\n",
              "      <td>...</td>\n",
              "      <td>...</td>\n",
              "      <td>...</td>\n",
              "      <td>...</td>\n",
              "      <td>...</td>\n",
              "      <td>...</td>\n",
              "      <td>...</td>\n",
              "      <td>...</td>\n",
              "      <td>...</td>\n",
              "      <td>...</td>\n",
              "      <td>...</td>\n",
              "    </tr>\n",
              "    <tr>\n",
              "      <th>578</th>\n",
              "      <td>Die telefonische Erreichbarkeit könnte verbess...</td>\n",
              "      <td>Erreichbarkeit</td>\n",
              "      <td>Erreichbarkeit</td>\n",
              "      <td>negative</td>\n",
              "      <td>Erreichbarkeit</td>\n",
              "      <td>Freundlichkeit</td>\n",
              "      <td>negative</td>\n",
              "      <td>Freundlichkeit</td>\n",
              "      <td>NaN</td>\n",
              "      <td>NaN</td>\n",
              "      <td>NaN</td>\n",
              "    </tr>\n",
              "    <tr>\n",
              "      <th>579</th>\n",
              "      <td>Die Preissteigerung nach einem Unfall erstaunt...</td>\n",
              "      <td>Unfall,Versicherung,Formular</td>\n",
              "      <td>Unfall</td>\n",
              "      <td>negative</td>\n",
              "      <td>Preis</td>\n",
              "      <td>Versicherung</td>\n",
              "      <td>negative</td>\n",
              "      <td>Problemlösung</td>\n",
              "      <td>Formular</td>\n",
              "      <td>negative</td>\n",
              "      <td>Problemlösung</td>\n",
              "    </tr>\n",
              "    <tr>\n",
              "      <th>580</th>\n",
              "      <td>Sehr hohe Summe die ich nach zahlen musste...</td>\n",
              "      <td>NaN</td>\n",
              "      <td>Summe</td>\n",
              "      <td>negative</td>\n",
              "      <td>Preis</td>\n",
              "      <td>NaN</td>\n",
              "      <td>NaN</td>\n",
              "      <td>NaN</td>\n",
              "      <td>NaN</td>\n",
              "      <td>NaN</td>\n",
              "      <td>NaN</td>\n",
              "    </tr>\n",
              "    <tr>\n",
              "      <th>581</th>\n",
              "      <td>Die grüne Versichertenkarte wurde fehlerhaft a...</td>\n",
              "      <td>NaN</td>\n",
              "      <td>Karte</td>\n",
              "      <td>negative</td>\n",
              "      <td>Qualität</td>\n",
              "      <td>Preis</td>\n",
              "      <td>positive</td>\n",
              "      <td>Preis</td>\n",
              "      <td>NaN</td>\n",
              "      <td>NaN</td>\n",
              "      <td>NaN</td>\n",
              "    </tr>\n",
              "    <tr>\n",
              "      <th>582</th>\n",
              "      <td>Zu teuer  hochstufung ob wohl es keine war  ic...</td>\n",
              "      <td>Kündigung,Versicherung</td>\n",
              "      <td>Kündigung</td>\n",
              "      <td>negative</td>\n",
              "      <td>Preis</td>\n",
              "      <td>Versicherung</td>\n",
              "      <td>negative</td>\n",
              "      <td>Qualität</td>\n",
              "      <td>NaN</td>\n",
              "      <td>NaN</td>\n",
              "      <td>NaN</td>\n",
              "    </tr>\n",
              "  </tbody>\n",
              "</table>\n",
              "<p>583 rows × 11 columns</p>\n",
              "</div>"
            ],
            "text/plain": [
              "                                              Feedback  ...       Entity_3\n",
              "0    Ich war bei einem großen deutschen Versicherun...  ...            NaN\n",
              "1    Lt. HUK-Schreiben benötige ich die Super-PIN u...  ...            NaN\n",
              "2    Bisher eine unkomplizierte Abwicklung - auch i...  ...            NaN\n",
              "3    Schnelle Beratung und Erstellung der eVB  samt...  ...            NaN\n",
              "4    Der Service der RechnungsApp ist super. Die Be...  ...            NaN\n",
              "..                                                 ...  ...            ...\n",
              "578  Die telefonische Erreichbarkeit könnte verbess...  ...            NaN\n",
              "579  Die Preissteigerung nach einem Unfall erstaunt...  ...  Problemlösung\n",
              "580      Sehr hohe Summe die ich nach zahlen musste...  ...            NaN\n",
              "581  Die grüne Versichertenkarte wurde fehlerhaft a...  ...            NaN\n",
              "582  Zu teuer  hochstufung ob wohl es keine war  ic...  ...            NaN\n",
              "\n",
              "[583 rows x 11 columns]"
            ]
          },
          "metadata": {
            "tags": []
          },
          "execution_count": 184
        }
      ]
    },
    {
      "cell_type": "code",
      "metadata": {
        "id": "wrrGcEaoxEIk",
        "colab_type": "code",
        "colab": {}
      },
      "source": [
        "len(entity_train)"
      ],
      "execution_count": null,
      "outputs": []
    },
    {
      "cell_type": "code",
      "metadata": {
        "id": "_3WoVetQS4za",
        "colab_type": "code",
        "colab": {
          "base_uri": "https://localhost:8080/",
          "height": 35
        },
        "outputId": "53327a0f-e468-492f-efd2-ac34916e8c59"
      },
      "source": [
        "ii = 0\n",
        "(my_data[\"Entity_2\"][ii]+','+my_data[\"Entity_1\"][ii])"
      ],
      "execution_count": 189,
      "outputs": [
        {
          "output_type": "execute_result",
          "data": {
            "application/vnd.google.colaboratory.intrinsic+json": {
              "type": "string"
            },
            "text/plain": [
              "'Preis,Preis'"
            ]
          },
          "metadata": {
            "tags": []
          },
          "execution_count": 189
        }
      ]
    },
    {
      "cell_type": "code",
      "metadata": {
        "id": "RmBA4y8gUIMs",
        "colab_type": "code",
        "colab": {
          "base_uri": "https://localhost:8080/",
          "height": 34
        },
        "outputId": "df08b0f9-ac9a-48b0-ba7d-2abf3a7d5113"
      },
      "source": [
        "for ii in range(len(my_data)):\n",
        "    if my_data[\"Entity_3\"][ii].isnull() == False:\n",
        "        my_data[\"Entity_Tuple\"][ii] = (my_data[\"Entity_3\"][ii]+','+my_data[\"Entity_2\"][ii]+','+my_data[\"Entity_1\"][ii])\n",
        "    if type(my_data[\"Entity_2\"][ii]) == str:\n",
        "        my_data[\"Entity_Tuple\"][ii] = (my_data[\"Entity_2\"][ii]+','+my_data[\"Entity_1\"][ii])\n",
        "    if type(my_data[\"Entity_1\"][ii]) == str:\n",
        "        my_data[\"Entity_Tuple\"][ii] = (my_data[\"Entity_1\"][ii])\n",
        "    else:\n",
        "        my_data = my_data.drop(ii)\n",
        "\n",
        "my_data.reset_index(inplace=True, drop=True)"
      ],
      "execution_count": 239,
      "outputs": [
        {
          "output_type": "execute_result",
          "data": {
            "text/plain": [
              "0"
            ]
          },
          "metadata": {
            "tags": []
          },
          "execution_count": 239
        }
      ]
    },
    {
      "cell_type": "code",
      "metadata": {
        "id": "lVvLwEczVeRR",
        "colab_type": "code",
        "colab": {
          "base_uri": "https://localhost:8080/",
          "height": 164
        },
        "outputId": "278102b7-fad3-4ee8-81c3-585c896073e3"
      },
      "source": [
        "my_data[\"Entity_3\"][ii].isnull()\n",
        "my_data[34:36]\n",
        "type(my_data[\"Entity_3\"][35])"
      ],
      "execution_count": 240,
      "outputs": [
        {
          "output_type": "error",
          "ename": "AttributeError",
          "evalue": "ignored",
          "traceback": [
            "\u001b[0;31m---------------------------------------------------------------------------\u001b[0m",
            "\u001b[0;31mAttributeError\u001b[0m                            Traceback (most recent call last)",
            "\u001b[0;32m<ipython-input-240-3cd1c25bbbf9>\u001b[0m in \u001b[0;36m<module>\u001b[0;34m()\u001b[0m\n\u001b[0;32m----> 1\u001b[0;31m \u001b[0mmy_data\u001b[0m\u001b[0;34m[\u001b[0m\u001b[0;34m\"Entity_3\"\u001b[0m\u001b[0;34m]\u001b[0m\u001b[0;34m[\u001b[0m\u001b[0mii\u001b[0m\u001b[0;34m]\u001b[0m\u001b[0;34m.\u001b[0m\u001b[0misnull\u001b[0m\u001b[0;34m(\u001b[0m\u001b[0;34m)\u001b[0m\u001b[0;34m\u001b[0m\u001b[0;34m\u001b[0m\u001b[0m\n\u001b[0m",
            "\u001b[0;31mAttributeError\u001b[0m: 'float' object has no attribute 'isnull'"
          ]
        }
      ]
    },
    {
      "cell_type": "code",
      "metadata": {
        "id": "n63WCt94SW4E",
        "colab_type": "code",
        "colab": {}
      },
      "source": [
        "def add_entity_tuple(my_data):\n",
        "    \n",
        "    none_list = [None] * len(my_data)\n",
        "    my_data[\"Entity_Tuple\"] = none_list\n",
        "\n",
        "    for ii in range(len(my_data)):\n",
        "        if type(my_data[\"Entity_3\"][ii]) == str:\n",
        "           if type(my_data[\"Entity_2\"][ii]) == str:\n",
        "              my_data[\"Entity_Tuple\"][ii] = (my_data[\"Entity_3\"][ii]+','+my_data[\"Entity_2\"][ii]+','+my_data[\"Entity_1\"][ii])\n",
        "        if type(my_data[\"Entity_2\"][ii]) == str:\n",
        "            my_data[\"Entity_Tuple\"][ii] = (my_data[\"Entity_2\"][ii]+','+my_data[\"Entity_1\"][ii])\n",
        "        elif type(my_data[\"Entity_1\"][ii]) == str:\n",
        "            my_data[\"Entity_Tuple\"][ii] = (my_data[\"Entity_1\"][ii])\n",
        "        else:\n",
        "            my_data = my_data.drop(ii)\n",
        "\n",
        "    my_data.reset_index(inplace=True, drop=True)\n",
        "\n",
        "    return my_data"
      ],
      "execution_count": 245,
      "outputs": []
    },
    {
      "cell_type": "code",
      "metadata": {
        "id": "999brrgkTwyI",
        "colab_type": "code",
        "colab": {}
      },
      "source": [
        "entity_train = add_entity_tuple(entity_train)"
      ],
      "execution_count": null,
      "outputs": []
    },
    {
      "cell_type": "markdown",
      "metadata": {
        "id": "roP5uOfX4g-3",
        "colab_type": "text"
      },
      "source": [
        "# Count aspect, entities and entity-aspect pairs"
      ]
    },
    {
      "cell_type": "code",
      "metadata": {
        "id": "o08L-ggp-7Yx",
        "colab_type": "code",
        "colab": {}
      },
      "source": [
        "def aspect_tuple_generator(my_data):\n",
        "\n",
        "    sep_aspects = []\n",
        "    tuple_list = []\n",
        "\n",
        "    for ii in range(len(my_data)):\n",
        "\n",
        "        if type(my_data.Aspect[ii]) == str:\n",
        "            sep_aspects += my_data[\"Aspect\"][ii].lower().split(sep=',')\n",
        "            # split list of aspects and make a tuple out of them\n",
        "            tuple_list += [tuple(my_data.Aspect[ii].lower().split(sep=','))]\n",
        "        else:\n",
        "            # add aspect \"no_aspect\" to reviews without any aspect\n",
        "            tuple_list += [tuple([\"no_aspect\", ])]\n",
        "          \n",
        "    return sep_aspects, tuple_list"
      ],
      "execution_count": 132,
      "outputs": []
    },
    {
      "cell_type": "code",
      "metadata": {
        "id": "mI7pjPik_Wpy",
        "colab_type": "code",
        "colab": {}
      },
      "source": [
        "sep_aspects, aspects_in_tuples = aspect_tuple_generator(entity_data)"
      ],
      "execution_count": null,
      "outputs": []
    },
    {
      "cell_type": "code",
      "metadata": {
        "id": "M13h64tiOJ9E",
        "colab_type": "code",
        "colab": {
          "base_uri": "https://localhost:8080/",
          "height": 34
        },
        "outputId": "ab3f9475-8887-4435-e1be-69f2588be412"
      },
      "source": [
        "len(set(sep_aspects))"
      ],
      "execution_count": 170,
      "outputs": [
        {
          "output_type": "execute_result",
          "data": {
            "text/plain": [
              "196"
            ]
          },
          "metadata": {
            "tags": []
          },
          "execution_count": 170
        }
      ]
    },
    {
      "cell_type": "markdown",
      "metadata": {
        "id": "8eOIaPG9eOvX",
        "colab_type": "text"
      },
      "source": [
        "###Get List of rare Aspects"
      ]
    },
    {
      "cell_type": "code",
      "metadata": {
        "colab_type": "code",
        "id": "VeXoZZDwAHq4",
        "colab": {}
      },
      "source": [
        "def aspect_list_cleaner(min_appearance_freq):\n",
        "\n",
        "    # create a frequency list for aspects and separate into two lists: \n",
        "    # cleaned_aspect_list & rare_aspect_list\n",
        "\n",
        "    aspect_freq_list = [[x,sep_aspects.count(x)] for x in set(sep_aspects)]\n",
        "\n",
        "    cleaned_aspect_list = [] \n",
        "    rare_aspect_list = []\n",
        "\n",
        "    for ii in range(len(aspect_freq_list)):\n",
        "\n",
        "        # each aspect has to appear at least min_appearance_freq time within\n",
        "        # the data to stay in the cleaned_aspect_list\n",
        "        # if min_appearance_freq = 1, no aspects are removed\n",
        "        if aspect_freq_list[ii][1] < min_appearance_freq: \n",
        "            rare_aspect_list += aspect_freq_list[ii][0:-1]\n",
        "        else:\n",
        "            cleaned_aspect_list += aspect_freq_list[ii][0:-1]\n",
        "    \n",
        "    return aspect_freq_list, cleaned_aspect_list, rare_aspect_list"
      ],
      "execution_count": 138,
      "outputs": []
    },
    {
      "cell_type": "code",
      "metadata": {
        "id": "GluJ4mHcBYWS",
        "colab_type": "code",
        "colab": {}
      },
      "source": [
        "#Choose how often an aspect has to appear at least.\n",
        "MIN_APP_FREQ = 1\n",
        "aspect_freq_list, cleaned_aspect_list, rare_aspect_list = aspect_list_cleaner(MIN_APP_FREQ)\n",
        "# Check length of separated lists\n",
        "[len(cleaned_aspect_list),len(rare_aspect_list)]"
      ],
      "execution_count": null,
      "outputs": []
    },
    {
      "cell_type": "markdown",
      "metadata": {
        "id": "htukfkY8R3cN",
        "colab_type": "text"
      },
      "source": [
        "## Neuer Abschnitt"
      ]
    },
    {
      "cell_type": "code",
      "metadata": {
        "id": "_dfjhuxTEZy9",
        "colab_type": "code",
        "colab": {
          "base_uri": "https://localhost:8080/",
          "height": 49
        },
        "outputId": "1eb08674-7d7c-4375-9b33-d2862a0ae5af"
      },
      "source": [
        "nones = np.zeros(shape=(0,10))\n",
        "data = pd.DataFrame(nones, columns=[\"Aspect\", \"Aspect_Freq\", \"Beratung\", \"Erreichbarkeit\", \"Freundlichkeit\", \"Kompetenz\", \"Qualität\", \"Preis\",\"Leistung/Nutzung\", \"Anforderung\"])"
      ],
      "execution_count": 160,
      "outputs": [
        {
          "output_type": "execute_result",
          "data": {
            "text/html": [
              "<div>\n",
              "<style scoped>\n",
              "    .dataframe tbody tr th:only-of-type {\n",
              "        vertical-align: middle;\n",
              "    }\n",
              "\n",
              "    .dataframe tbody tr th {\n",
              "        vertical-align: top;\n",
              "    }\n",
              "\n",
              "    .dataframe thead th {\n",
              "        text-align: right;\n",
              "    }\n",
              "</style>\n",
              "<table border=\"1\" class=\"dataframe\">\n",
              "  <thead>\n",
              "    <tr style=\"text-align: right;\">\n",
              "      <th></th>\n",
              "      <th>Aspect</th>\n",
              "      <th>Aspect_Freq</th>\n",
              "      <th>Beratung</th>\n",
              "      <th>Erreichbarkeit</th>\n",
              "      <th>Freundlichkeit</th>\n",
              "      <th>Kompetenz</th>\n",
              "      <th>Qualität</th>\n",
              "      <th>Preis</th>\n",
              "      <th>Leistung/Nutzung</th>\n",
              "      <th>Anforderung</th>\n",
              "    </tr>\n",
              "  </thead>\n",
              "  <tbody>\n",
              "  </tbody>\n",
              "</table>\n",
              "</div>"
            ],
            "text/plain": [
              "Empty DataFrame\n",
              "Columns: [Aspect, Aspect_Freq, Beratung, Erreichbarkeit, Freundlichkeit, Kompetenz, Qualität, Preis, Leistung/Nutzung, Anforderung]\n",
              "Index: []"
            ]
          },
          "metadata": {
            "tags": []
          },
          "execution_count": 160
        }
      ]
    },
    {
      "cell_type": "code",
      "metadata": {
        "id": "VhH4sHJ4OjnO",
        "colab_type": "code",
        "colab": {
          "base_uri": "https://localhost:8080/",
          "height": 419
        },
        "outputId": "568cb09d-be4d-4714-a329-90b89ba3790d"
      },
      "source": [
        "data2 =pd.DataFrame(aspect_freq_list,columns=['Aspect','Aspect_Freq'])\n",
        "data.Aspect =data2.assign(Beratung =\"\", Erreichbarkeit=\"\", Freundlichkeit=\"\", Kompetenz=\"\", Qualität=\"\", Preis=\"\",Leistung_Nutzung=\"\", Anforderung=\"\")"
      ],
      "execution_count": 180,
      "outputs": [
        {
          "output_type": "execute_result",
          "data": {
            "text/html": [
              "<div>\n",
              "<style scoped>\n",
              "    .dataframe tbody tr th:only-of-type {\n",
              "        vertical-align: middle;\n",
              "    }\n",
              "\n",
              "    .dataframe tbody tr th {\n",
              "        vertical-align: top;\n",
              "    }\n",
              "\n",
              "    .dataframe thead th {\n",
              "        text-align: right;\n",
              "    }\n",
              "</style>\n",
              "<table border=\"1\" class=\"dataframe\">\n",
              "  <thead>\n",
              "    <tr style=\"text-align: right;\">\n",
              "      <th></th>\n",
              "      <th>Aspect</th>\n",
              "      <th>Aspect_Freq</th>\n",
              "      <th>Beratung</th>\n",
              "      <th>Erreichbarkeit</th>\n",
              "      <th>Freundlichkeit</th>\n",
              "      <th>Kompetenz</th>\n",
              "      <th>Qualität</th>\n",
              "      <th>Preis</th>\n",
              "      <th>Leistung_Nutzung</th>\n",
              "      <th>Anforderung</th>\n",
              "    </tr>\n",
              "  </thead>\n",
              "  <tbody>\n",
              "    <tr>\n",
              "      <th>0</th>\n",
              "      <td>aufbau</td>\n",
              "      <td>1</td>\n",
              "      <td></td>\n",
              "      <td></td>\n",
              "      <td></td>\n",
              "      <td></td>\n",
              "      <td></td>\n",
              "      <td></td>\n",
              "      <td></td>\n",
              "      <td></td>\n",
              "    </tr>\n",
              "    <tr>\n",
              "      <th>1</th>\n",
              "      <td>betrag</td>\n",
              "      <td>3</td>\n",
              "      <td></td>\n",
              "      <td></td>\n",
              "      <td></td>\n",
              "      <td></td>\n",
              "      <td></td>\n",
              "      <td></td>\n",
              "      <td></td>\n",
              "      <td></td>\n",
              "    </tr>\n",
              "    <tr>\n",
              "      <th>2</th>\n",
              "      <td>beschreibung</td>\n",
              "      <td>1</td>\n",
              "      <td></td>\n",
              "      <td></td>\n",
              "      <td></td>\n",
              "      <td></td>\n",
              "      <td></td>\n",
              "      <td></td>\n",
              "      <td></td>\n",
              "      <td></td>\n",
              "    </tr>\n",
              "    <tr>\n",
              "      <th>3</th>\n",
              "      <td>hilfe</td>\n",
              "      <td>6</td>\n",
              "      <td></td>\n",
              "      <td></td>\n",
              "      <td></td>\n",
              "      <td></td>\n",
              "      <td></td>\n",
              "      <td></td>\n",
              "      <td></td>\n",
              "      <td></td>\n",
              "    </tr>\n",
              "    <tr>\n",
              "      <th>4</th>\n",
              "      <td>bearbeitung</td>\n",
              "      <td>12</td>\n",
              "      <td></td>\n",
              "      <td></td>\n",
              "      <td></td>\n",
              "      <td></td>\n",
              "      <td></td>\n",
              "      <td></td>\n",
              "      <td></td>\n",
              "      <td></td>\n",
              "    </tr>\n",
              "    <tr>\n",
              "      <th>...</th>\n",
              "      <td>...</td>\n",
              "      <td>...</td>\n",
              "      <td>...</td>\n",
              "      <td>...</td>\n",
              "      <td>...</td>\n",
              "      <td>...</td>\n",
              "      <td>...</td>\n",
              "      <td>...</td>\n",
              "      <td>...</td>\n",
              "      <td>...</td>\n",
              "    </tr>\n",
              "    <tr>\n",
              "      <th>191</th>\n",
              "      <td>suche</td>\n",
              "      <td>1</td>\n",
              "      <td></td>\n",
              "      <td></td>\n",
              "      <td></td>\n",
              "      <td></td>\n",
              "      <td></td>\n",
              "      <td></td>\n",
              "      <td></td>\n",
              "      <td></td>\n",
              "    </tr>\n",
              "    <tr>\n",
              "      <th>192</th>\n",
              "      <td>anbieter</td>\n",
              "      <td>7</td>\n",
              "      <td></td>\n",
              "      <td></td>\n",
              "      <td></td>\n",
              "      <td></td>\n",
              "      <td></td>\n",
              "      <td></td>\n",
              "      <td></td>\n",
              "      <td></td>\n",
              "    </tr>\n",
              "    <tr>\n",
              "      <th>193</th>\n",
              "      <td>nutzen</td>\n",
              "      <td>1</td>\n",
              "      <td></td>\n",
              "      <td></td>\n",
              "      <td></td>\n",
              "      <td></td>\n",
              "      <td></td>\n",
              "      <td></td>\n",
              "      <td></td>\n",
              "      <td></td>\n",
              "    </tr>\n",
              "    <tr>\n",
              "      <th>194</th>\n",
              "      <td>nachfrage</td>\n",
              "      <td>3</td>\n",
              "      <td></td>\n",
              "      <td></td>\n",
              "      <td></td>\n",
              "      <td></td>\n",
              "      <td></td>\n",
              "      <td></td>\n",
              "      <td></td>\n",
              "      <td></td>\n",
              "    </tr>\n",
              "    <tr>\n",
              "      <th>195</th>\n",
              "      <td>online-abschluss</td>\n",
              "      <td>2</td>\n",
              "      <td></td>\n",
              "      <td></td>\n",
              "      <td></td>\n",
              "      <td></td>\n",
              "      <td></td>\n",
              "      <td></td>\n",
              "      <td></td>\n",
              "      <td></td>\n",
              "    </tr>\n",
              "  </tbody>\n",
              "</table>\n",
              "<p>196 rows × 10 columns</p>\n",
              "</div>"
            ],
            "text/plain": [
              "               Aspect  Aspect_Freq Beratung  ... Preis Leistung_Nutzung Anforderung\n",
              "0              aufbau            1           ...                                   \n",
              "1              betrag            3           ...                                   \n",
              "2        beschreibung            1           ...                                   \n",
              "3               hilfe            6           ...                                   \n",
              "4         bearbeitung           12           ...                                   \n",
              "..                ...          ...      ...  ...   ...              ...         ...\n",
              "191             suche            1           ...                                   \n",
              "192          anbieter            7           ...                                   \n",
              "193            nutzen            1           ...                                   \n",
              "194         nachfrage            3           ...                                   \n",
              "195  online-abschluss            2           ...                                   \n",
              "\n",
              "[196 rows x 10 columns]"
            ]
          },
          "metadata": {
            "tags": []
          },
          "execution_count": 180
        }
      ]
    },
    {
      "cell_type": "code",
      "metadata": {
        "id": "YHzM_AjPQ_hL",
        "colab_type": "code",
        "colab": {
          "base_uri": "https://localhost:8080/",
          "height": 34
        },
        "outputId": "7c8563c6-d10a-48ee-f65a-cbceca6d10f3"
      },
      "source": [
        "for ii in range(len(entity_train)):\n",
        "  if entity_train."
      ],
      "execution_count": 183,
      "outputs": [
        {
          "output_type": "execute_result",
          "data": {
            "text/plain": [
              "583"
            ]
          },
          "metadata": {
            "tags": []
          },
          "execution_count": 183
        }
      ]
    },
    {
      "cell_type": "markdown",
      "metadata": {
        "id": "J7Hr8VOKeYtl",
        "colab_type": "text"
      },
      "source": [
        "##Remove rare aspects from tuple List"
      ]
    },
    {
      "cell_type": "code",
      "metadata": {
        "id": "rUsK3I7fP9aD",
        "colab_type": "code",
        "colab": {}
      },
      "source": [
        "def rare_aspect_remover(tuple_list, rare_aspect_list):\n",
        "\n",
        "    # create a new tuple_list: cleaned_aspects, removing rare aspects that just appear once\n",
        "    cleaned_aspects = [None] * len(tuple_list)\n",
        "\n",
        "    for ii in range(len(tuple_list)):\n",
        "        cleaned_aspects[ii] = tuple()\n",
        "        for ind in tuple_list[ii]:\n",
        "            if ind not in rare_aspect_list:\n",
        "                cleaned_aspects[ii] += tuple([ind])\n",
        "        # if the removed aspect was the only aspect, we need to label it \"no_aspect\"\n",
        "        if cleaned_aspects[ii] == ():\n",
        "            cleaned_aspects[ii] = tuple([\"no_aspect\", ])\n",
        "    \n",
        "    return cleaned_aspects"
      ],
      "execution_count": 142,
      "outputs": []
    },
    {
      "cell_type": "code",
      "metadata": {
        "id": "2HA5qSnKFL26",
        "colab_type": "code",
        "colab": {}
      },
      "source": [
        "cleaned_aspects = rare_aspect_remover(aspects_in_tuples, rare_aspect_list)"
      ],
      "execution_count": null,
      "outputs": []
    },
    {
      "cell_type": "markdown",
      "metadata": {
        "id": "jdTF2rO8lkcC",
        "colab_type": "text"
      },
      "source": [
        "Add columns to data set"
      ]
    },
    {
      "cell_type": "code",
      "metadata": {
        "id": "F_0XVzfHbUlv",
        "colab_type": "code",
        "colab": {}
      },
      "source": [
        "def aspect_encoder(my_data, cleaned_aspects):\n",
        "\n",
        "    none_list = [None] * len(cleaned_aspects)\n",
        "    tuple_df = pd.DataFrame(none_list, columns=[\"Tuples\"])\n",
        "    tuple_df.Tuples = cleaned_aspects\n",
        "\n",
        "    my_data[\"Cleaned_Aspects\"] = tuple_df.Tuples\n",
        "\n",
        "    mlb = MultiLabelBinarizer()\n",
        "    encoded_aspects = mlb.fit_transform(my_data[\"Cleaned_Aspects\"])\n",
        "    aspect_table = pd.DataFrame(encoded_aspects, columns=mlb.classes_)\n",
        "\n",
        "    my_data[\"Aspect_Encoding\"] = aspect_table.values.tolist()\n",
        "\n",
        "    return my_data, aspect_table, mlb.classes_"
      ],
      "execution_count": null,
      "outputs": []
    },
    {
      "cell_type": "code",
      "metadata": {
        "id": "jTW6x9K_b6gV",
        "colab_type": "code",
        "colab": {}
      },
      "source": [
        "kfz_data, aspect_table, aspects = aspect_encoder(kfz_data, cleaned_aspects)"
      ],
      "execution_count": null,
      "outputs": []
    }
  ]
}