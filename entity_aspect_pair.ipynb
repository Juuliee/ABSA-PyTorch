{
  "nbformat": 4,
  "nbformat_minor": 0,
  "metadata": {
    "colab": {
      "name": "entity-aspect-pair.ipynb",
      "provenance": [],
      "toc_visible": true,
      "authorship_tag": "ABX9TyPWCbZrjBfWMATQJht8uZPN",
      "include_colab_link": true
    },
    "kernelspec": {
      "name": "python3",
      "display_name": "Python 3"
    }
  },
  "cells": [
    {
      "cell_type": "markdown",
      "metadata": {
        "id": "view-in-github",
        "colab_type": "text"
      },
      "source": [
        "<a href=\"https://colab.research.google.com/github/Juuliee/ABSA-PyTorch/blob/master/entity_aspect_pair.ipynb\" target=\"_parent\"><img src=\"https://colab.research.google.com/assets/colab-badge.svg\" alt=\"Open In Colab\"/></a>"
      ]
    },
    {
      "cell_type": "markdown",
      "metadata": {
        "id": "_JI3_4n_UMjt",
        "colab_type": "text"
      },
      "source": [
        "## Google Drive"
      ]
    },
    {
      "cell_type": "code",
      "metadata": {
        "id": "icklyXJ6TqPO",
        "colab_type": "code",
        "colab": {
          "base_uri": "https://localhost:8080/",
          "height": 34
        },
        "outputId": "5b127942-ad99-4231-f192-c5c1bc89c47b"
      },
      "source": [
        "from google.colab import drive\n",
        "drive.mount('/content/drive/')"
      ],
      "execution_count": 1,
      "outputs": [
        {
          "output_type": "stream",
          "text": [
            "Mounted at /content/drive/\n"
          ],
          "name": "stdout"
        }
      ]
    },
    {
      "cell_type": "markdown",
      "metadata": {
        "id": "gyzu3w5eU8CZ",
        "colab_type": "text"
      },
      "source": [
        "## Import Packages"
      ]
    },
    {
      "cell_type": "code",
      "metadata": {
        "id": "NlrLiS-wU6QC",
        "colab_type": "code",
        "colab": {}
      },
      "source": [
        "import pandas as pd\n",
        "import numpy as np"
      ],
      "execution_count": 5,
      "outputs": []
    },
    {
      "cell_type": "markdown",
      "metadata": {
        "id": "ggXSuRGUUvJ6",
        "colab_type": "text"
      },
      "source": [
        "## Import Data\n",
        "\n",
        "without unnecessary rows and columns."
      ]
    },
    {
      "cell_type": "code",
      "metadata": {
        "colab_type": "code",
        "id": "O4y0R3_KpGuL",
        "colab": {}
      },
      "source": [
        "original_data = pd.read_excel('/content/drive/My Drive/Review Classifier - Trainingsset-CCG-3.xlsx')"
      ],
      "execution_count": 6,
      "outputs": []
    },
    {
      "cell_type": "code",
      "metadata": {
        "id": "zG0LwJoU1WoQ",
        "colab_type": "code",
        "colab": {
          "base_uri": "https://localhost:8080/",
          "height": 102
        },
        "outputId": "6da72725-c2b7-4c1f-9fcb-97e954608133"
      },
      "source": [
        "print(original_data[original_data.duplicated(keep= False)]) # row 194 and 202 duplicate"
      ],
      "execution_count": 7,
      "outputs": [
        {
          "output_type": "stream",
          "text": [
            "       Review Aspect Aspect 1  ... Aspect 3 Sentiment Aspect 3 Sub-category Aspect 3\n",
            "194  Gute app    NaN      NaN  ...      NaN                NaN                   NaN\n",
            "202  Gute app    NaN      NaN  ...      NaN                NaN                   NaN\n",
            "\n",
            "[2 rows x 11 columns]\n"
          ],
          "name": "stdout"
        }
      ]
    },
    {
      "cell_type": "code",
      "metadata": {
        "colab_type": "code",
        "id": "g_9WoS6FfEO3",
        "colab": {}
      },
      "source": [
        "def drop_rows(my_data):\n",
        "\n",
        "    lorem_indices = my_data[my_data[\"Feedback\"] == ' Lorem ipsum dolor sit amet\\\\\\\\  consectetur adipiscing elit. '].index\n",
        "    new_data = my_data.drop(lorem_indices)\n",
        "    new_data.drop_duplicates(inplace=True,ignore_index=True)\n",
        "    new_data.reset_index(drop=True, inplace=True)\n",
        "\n",
        "    return new_data"
      ],
      "execution_count": 8,
      "outputs": []
    },
    {
      "cell_type": "code",
      "metadata": {
        "id": "Smfgh8P-jwTJ",
        "colab_type": "code",
        "colab": {}
      },
      "source": [
        "entity_data = original_data.rename(columns={\"Review\": \"Feedback\", \"Aspect 1\": \"Aspect_1\", \"Sentiment Aspect 1\": \"Sentiment_1\", \"Aspect 2\": \"Aspect_2\", \"Sentiment Aspect 2\": \"Sentiment_2\", \"Aspect 3\": \"Aspect_3\", \"Sentiment Aspect 3\": \"Sentiment_3\", \"Sub-category Aspect 1\": \"Entity_1\", \"Sub-category Aspect 2\": \"Entity_2\", \"Sub-category Aspect 3\": \"Entity_3\"})\n",
        "entity_data = drop_rows(entity_data)"
      ],
      "execution_count": 34,
      "outputs": []
    },
    {
      "cell_type": "markdown",
      "metadata": {
        "id": "GugT3jFSxDrJ",
        "colab_type": "text"
      },
      "source": [
        "## Remove special characters"
      ]
    },
    {
      "cell_type": "code",
      "metadata": {
        "id": "rQSO6SmaxDKg",
        "colab_type": "code",
        "colab": {}
      },
      "source": [
        "def remove_special_characters(my_data):\n",
        "\n",
        "    my_data[\"Feedback\"] = my_data[\"Feedback\"].str.replace('_',' ').str.replace('\\\\\\\\','')\n",
        "    my_data[\"Feedback\"] = my_data[\"Feedback\"].str.replace('<br>',' ')\n",
        "    my_data[\"Feedback\"] = my_data[\"Feedback\"].str.lstrip().str.rstrip() # remove leading and trailing whitespaces\n",
        "\n",
        "    return my_data"
      ],
      "execution_count": 35,
      "outputs": []
    },
    {
      "cell_type": "code",
      "metadata": {
        "id": "nlHVVQXMkO2i",
        "colab_type": "code",
        "colab": {}
      },
      "source": [
        "entity_data = remove_special_characters(entity_data)"
      ],
      "execution_count": null,
      "outputs": []
    },
    {
      "cell_type": "code",
      "metadata": {
        "id": "v5_9dJiwuKaN",
        "colab_type": "code",
        "colab": {
          "base_uri": "https://localhost:8080/",
          "height": 204
        },
        "outputId": "b18797c7-24ea-4aff-ea3d-0b11098e9a3b"
      },
      "source": [
        "entity_data[entity_data.Aspect_1 == 'Mitarbeiter']"
      ],
      "execution_count": 169,
      "outputs": [
        {
          "output_type": "execute_result",
          "data": {
            "text/html": [
              "<div>\n",
              "<style scoped>\n",
              "    .dataframe tbody tr th:only-of-type {\n",
              "        vertical-align: middle;\n",
              "    }\n",
              "\n",
              "    .dataframe tbody tr th {\n",
              "        vertical-align: top;\n",
              "    }\n",
              "\n",
              "    .dataframe thead th {\n",
              "        text-align: right;\n",
              "    }\n",
              "</style>\n",
              "<table border=\"1\" class=\"dataframe\">\n",
              "  <thead>\n",
              "    <tr style=\"text-align: right;\">\n",
              "      <th></th>\n",
              "      <th>Feedback</th>\n",
              "      <th>Aspect</th>\n",
              "      <th>Aspect_1</th>\n",
              "      <th>Sentiment_1</th>\n",
              "      <th>Entity_1</th>\n",
              "      <th>Aspect_2</th>\n",
              "      <th>Sentiment_2</th>\n",
              "      <th>Entity_2</th>\n",
              "      <th>Aspect_3</th>\n",
              "      <th>Sentiment_3</th>\n",
              "      <th>Entity_3</th>\n",
              "    </tr>\n",
              "  </thead>\n",
              "  <tbody>\n",
              "    <tr>\n",
              "      <th>24</th>\n",
              "      <td>Morgens den Wagen gebracht kurze Absprache mit...</td>\n",
              "      <td>Mitarbeiter,klasse</td>\n",
              "      <td>Mitarbeiter</td>\n",
              "      <td>positive</td>\n",
              "      <td>Freundlichkeit</td>\n",
              "      <td>NaN</td>\n",
              "      <td>NaN</td>\n",
              "      <td>NaN</td>\n",
              "      <td>NaN</td>\n",
              "      <td>NaN</td>\n",
              "      <td>NaN</td>\n",
              "    </tr>\n",
              "    <tr>\n",
              "      <th>346</th>\n",
              "      <td>Nach Meldung des Schadens bei der Würtembergis...</td>\n",
              "      <td>NaN</td>\n",
              "      <td>Mitarbeiter</td>\n",
              "      <td>positive</td>\n",
              "      <td>Freundlichkeit</td>\n",
              "      <td>Ersatzfahrzeug</td>\n",
              "      <td>positive</td>\n",
              "      <td>Leistung</td>\n",
              "      <td>Reparatur</td>\n",
              "      <td>positive</td>\n",
              "      <td>Leistung</td>\n",
              "    </tr>\n",
              "    <tr>\n",
              "      <th>432</th>\n",
              "      <td>Total unfreundlich mit fast schon einer Arroga...</td>\n",
              "      <td>NaN</td>\n",
              "      <td>Mitarbeiter</td>\n",
              "      <td>negative</td>\n",
              "      <td>Freundlichkeit</td>\n",
              "      <td>Aussage</td>\n",
              "      <td>negative</td>\n",
              "      <td>Beratung</td>\n",
              "      <td>NaN</td>\n",
              "      <td>NaN</td>\n",
              "      <td>NaN</td>\n",
              "    </tr>\n",
              "    <tr>\n",
              "      <th>605</th>\n",
              "      <td>Keine kompetenten Mitarbeiter. Angeforderten I...</td>\n",
              "      <td>Mitarbeiter,Informationen</td>\n",
              "      <td>Mitarbeiter</td>\n",
              "      <td>negative</td>\n",
              "      <td>Kompetenz</td>\n",
              "      <td>Information</td>\n",
              "      <td>negative</td>\n",
              "      <td>Kompetenz</td>\n",
              "      <td>NaN</td>\n",
              "      <td>NaN</td>\n",
              "      <td>NaN</td>\n",
              "    </tr>\n",
              "    <tr>\n",
              "      <th>616</th>\n",
              "      <td>Die Erfahrung  daß Sie unter   Pensionären   n...</td>\n",
              "      <td>Mitarbeiter</td>\n",
              "      <td>Mitarbeiter</td>\n",
              "      <td>neutral</td>\n",
              "      <td>Qualität</td>\n",
              "      <td>Abschluss</td>\n",
              "      <td>negative</td>\n",
              "      <td>Leistung</td>\n",
              "      <td>NaN</td>\n",
              "      <td>NaN</td>\n",
              "      <td>NaN</td>\n",
              "    </tr>\n",
              "  </tbody>\n",
              "</table>\n",
              "</div>"
            ],
            "text/plain": [
              "                                              Feedback  ...  Entity_3\n",
              "24   Morgens den Wagen gebracht kurze Absprache mit...  ...       NaN\n",
              "346  Nach Meldung des Schadens bei der Würtembergis...  ...  Leistung\n",
              "432  Total unfreundlich mit fast schon einer Arroga...  ...       NaN\n",
              "605  Keine kompetenten Mitarbeiter. Angeforderten I...  ...       NaN\n",
              "616  Die Erfahrung  daß Sie unter   Pensionären   n...  ...       NaN\n",
              "\n",
              "[5 rows x 11 columns]"
            ]
          },
          "metadata": {
            "tags": []
          },
          "execution_count": 169
        }
      ]
    },
    {
      "cell_type": "code",
      "metadata": {
        "id": "_MYJM5bBuKSa",
        "colab_type": "code",
        "colab": {}
      },
      "source": [
        ""
      ],
      "execution_count": null,
      "outputs": []
    },
    {
      "cell_type": "markdown",
      "metadata": {
        "id": "roP5uOfX4g-3",
        "colab_type": "text"
      },
      "source": [
        "# Count aspect, entities and entity-aspect pairs"
      ]
    },
    {
      "cell_type": "code",
      "metadata": {
        "id": "xmu4DqjCef7r",
        "colab_type": "code",
        "colab": {
          "base_uri": "https://localhost:8080/",
          "height": 51
        },
        "outputId": "de0160ba-878d-4daa-b8b5-c36e7762d2e9"
      },
      "source": [
        "# check where Entity_1 is NaN, but Entity_2, or Entity_3 is not NaN\n",
        "temp = entity_data[entity_data.Entity_1.isnull()]\n",
        "[temp[temp.Entity_2.isnull()]['Entity_2'].value_counts(),temp[temp.Entity_3.isnull()]['Entity_3'].value_counts()]"
      ],
      "execution_count": 171,
      "outputs": [
        {
          "output_type": "execute_result",
          "data": {
            "text/plain": [
              "[Series([], Name: Entity_2, dtype: int64),\n",
              " Series([], Name: Entity_3, dtype: int64)]"
            ]
          },
          "metadata": {
            "tags": []
          },
          "execution_count": 171
        }
      ]
    },
    {
      "cell_type": "code",
      "metadata": {
        "id": "LL-4cgwd-Mqc",
        "colab_type": "code",
        "colab": {}
      },
      "source": [
        "#Use only entity-relevant rows\n",
        "entity_train =entity_data[~entity_data.Entity_1.isnull()]\n",
        "entity_train.reset_index(drop=True, inplace=True)\n",
        "len(entity_train)"
      ],
      "execution_count": null,
      "outputs": []
    },
    {
      "cell_type": "markdown",
      "metadata": {
        "id": "3jLLK7HoliQz",
        "colab_type": "text"
      },
      "source": [
        "##Add Entity Column"
      ]
    },
    {
      "cell_type": "markdown",
      "metadata": {
        "id": "0ZhT0wWiUX5f",
        "colab_type": "text"
      },
      "source": [
        "add column Entity showing existing entities in each Review accordingly\n",
        "- due to mistakes in column Aspect, add column Aspect_new gathering aspects in each Review"
      ]
    },
    {
      "cell_type": "code",
      "metadata": {
        "id": "n63WCt94SW4E",
        "colab_type": "code",
        "colab": {}
      },
      "source": [
        "def add_entity_column(my_data):\n",
        "    \n",
        "    none_list = [None] * len(my_data)\n",
        "    my_data[\"Entity\"] = none_list\n",
        "    my_data[\"Aspect_new\"] = none_list\n",
        "\n",
        "    for ii in range(len(my_data)):\n",
        "        if type(my_data[\"Entity_3\"][ii]) == str:\n",
        "           if type(my_data[\"Entity_2\"][ii]) == str:\n",
        "              my_data[\"Entity\"][ii] = (my_data[\"Entity_3\"][ii]+','+my_data[\"Entity_2\"][ii]+','+my_data[\"Entity_1\"][ii])\n",
        "              my_data[\"Aspect_new\"][ii] = (my_data[\"Aspect_3\"][ii]+','+my_data[\"Aspect_2\"][ii]+','+my_data[\"Aspect_1\"][ii])\n",
        "              \n",
        "        elif type(my_data[\"Entity_2\"][ii]) == str:\n",
        "            my_data[\"Entity\"][ii] = (my_data[\"Entity_2\"][ii]+','+my_data[\"Entity_1\"][ii])\n",
        "            my_data[\"Aspect_new\"][ii] = (my_data[\"Aspect_2\"][ii]+','+my_data[\"Aspect_1\"][ii])\n",
        "              \n",
        "        elif type(my_data[\"Entity_1\"][ii]) == str:\n",
        "            my_data[\"Entity\"][ii] = (my_data[\"Entity_1\"][ii])\n",
        "            my_data[\"Aspect_new\"][ii] = (my_data[\"Aspect_1\"][ii])\n",
        "        else:\n",
        "            my_data = my_data.drop(ii)\n",
        "\n",
        "    my_data.reset_index(inplace=True, drop=True)\n",
        "\n",
        "    return my_data"
      ],
      "execution_count": 170,
      "outputs": []
    },
    {
      "cell_type": "code",
      "metadata": {
        "id": "999brrgkTwyI",
        "colab_type": "code",
        "colab": {
          "base_uri": "https://localhost:8080/",
          "height": 932
        },
        "outputId": "bcc618a8-57fa-43bc-ccb7-0ed62143f5e7"
      },
      "source": [
        "entity_train = add_entity_column(entity_train)"
      ],
      "execution_count": 183,
      "outputs": [
        {
          "output_type": "execute_result",
          "data": {
            "text/html": [
              "<div>\n",
              "<style scoped>\n",
              "    .dataframe tbody tr th:only-of-type {\n",
              "        vertical-align: middle;\n",
              "    }\n",
              "\n",
              "    .dataframe tbody tr th {\n",
              "        vertical-align: top;\n",
              "    }\n",
              "\n",
              "    .dataframe thead th {\n",
              "        text-align: right;\n",
              "    }\n",
              "</style>\n",
              "<table border=\"1\" class=\"dataframe\">\n",
              "  <thead>\n",
              "    <tr style=\"text-align: right;\">\n",
              "      <th></th>\n",
              "      <th>Feedback</th>\n",
              "      <th>Aspect</th>\n",
              "      <th>Aspect_1</th>\n",
              "      <th>Sentiment_1</th>\n",
              "      <th>Entity_1</th>\n",
              "      <th>Aspect_2</th>\n",
              "      <th>Sentiment_2</th>\n",
              "      <th>Entity_2</th>\n",
              "      <th>Aspect_3</th>\n",
              "      <th>Sentiment_3</th>\n",
              "      <th>Entity_3</th>\n",
              "      <th>Entity</th>\n",
              "      <th>Aspect_new</th>\n",
              "    </tr>\n",
              "  </thead>\n",
              "  <tbody>\n",
              "    <tr>\n",
              "      <th>0</th>\n",
              "      <td>Ich war bei einem großen deutschen Versicherun...</td>\n",
              "      <td>Beiträge,Geld</td>\n",
              "      <td>Beitrag</td>\n",
              "      <td>neutral</td>\n",
              "      <td>Preis</td>\n",
              "      <td>Geld</td>\n",
              "      <td>positive</td>\n",
              "      <td>Preis</td>\n",
              "      <td>NaN</td>\n",
              "      <td>NaN</td>\n",
              "      <td>NaN</td>\n",
              "      <td>Preis,Preis</td>\n",
              "      <td>Geld,Beitrag</td>\n",
              "    </tr>\n",
              "    <tr>\n",
              "      <th>1</th>\n",
              "      <td>Lt. HUK-Schreiben benötige ich die Super-PIN u...</td>\n",
              "      <td>Bereich,Problem</td>\n",
              "      <td>Bereich</td>\n",
              "      <td>neutral</td>\n",
              "      <td>Beratung</td>\n",
              "      <td>Problem</td>\n",
              "      <td>negative</td>\n",
              "      <td>Problemlösung</td>\n",
              "      <td>NaN</td>\n",
              "      <td>NaN</td>\n",
              "      <td>NaN</td>\n",
              "      <td>Problemlösung,Beratung</td>\n",
              "      <td>Problem,Bereich</td>\n",
              "    </tr>\n",
              "    <tr>\n",
              "      <th>2</th>\n",
              "      <td>Bisher eine unkomplizierte Abwicklung - auch i...</td>\n",
              "      <td>Abwicklung,Schadensfall</td>\n",
              "      <td>Abwicklung</td>\n",
              "      <td>positive</td>\n",
              "      <td>Leistung</td>\n",
              "      <td>Schadensfall</td>\n",
              "      <td>positive</td>\n",
              "      <td>Leistung</td>\n",
              "      <td>NaN</td>\n",
              "      <td>NaN</td>\n",
              "      <td>NaN</td>\n",
              "      <td>Leistung,Leistung</td>\n",
              "      <td>Schadensfall,Abwicklung</td>\n",
              "    </tr>\n",
              "    <tr>\n",
              "      <th>3</th>\n",
              "      <td>Schnelle Beratung und Erstellung der eVB  samt...</td>\n",
              "      <td>Beratung,Unterlagen</td>\n",
              "      <td>Beratung</td>\n",
              "      <td>positive</td>\n",
              "      <td>Beratung</td>\n",
              "      <td>Unterlagen</td>\n",
              "      <td>positive</td>\n",
              "      <td>Erreichbarkeit</td>\n",
              "      <td>NaN</td>\n",
              "      <td>NaN</td>\n",
              "      <td>NaN</td>\n",
              "      <td>Erreichbarkeit,Beratung</td>\n",
              "      <td>Unterlagen,Beratung</td>\n",
              "    </tr>\n",
              "    <tr>\n",
              "      <th>4</th>\n",
              "      <td>Der Service der RechnungsApp ist super. Die Be...</td>\n",
              "      <td>Service,Bearbeitung</td>\n",
              "      <td>Service</td>\n",
              "      <td>positive</td>\n",
              "      <td>Erreichbarkeit</td>\n",
              "      <td>Bearbeitung</td>\n",
              "      <td>positive</td>\n",
              "      <td>Erreichbarkeit</td>\n",
              "      <td>NaN</td>\n",
              "      <td>NaN</td>\n",
              "      <td>NaN</td>\n",
              "      <td>Erreichbarkeit,Erreichbarkeit</td>\n",
              "      <td>Bearbeitung,Service</td>\n",
              "    </tr>\n",
              "    <tr>\n",
              "      <th>...</th>\n",
              "      <td>...</td>\n",
              "      <td>...</td>\n",
              "      <td>...</td>\n",
              "      <td>...</td>\n",
              "      <td>...</td>\n",
              "      <td>...</td>\n",
              "      <td>...</td>\n",
              "      <td>...</td>\n",
              "      <td>...</td>\n",
              "      <td>...</td>\n",
              "      <td>...</td>\n",
              "      <td>...</td>\n",
              "      <td>...</td>\n",
              "    </tr>\n",
              "    <tr>\n",
              "      <th>578</th>\n",
              "      <td>Die telefonische Erreichbarkeit könnte verbess...</td>\n",
              "      <td>Erreichbarkeit</td>\n",
              "      <td>Erreichbarkeit</td>\n",
              "      <td>negative</td>\n",
              "      <td>Erreichbarkeit</td>\n",
              "      <td>Freundlichkeit</td>\n",
              "      <td>negative</td>\n",
              "      <td>Freundlichkeit</td>\n",
              "      <td>NaN</td>\n",
              "      <td>NaN</td>\n",
              "      <td>NaN</td>\n",
              "      <td>Freundlichkeit,Erreichbarkeit</td>\n",
              "      <td>Freundlichkeit,Erreichbarkeit</td>\n",
              "    </tr>\n",
              "    <tr>\n",
              "      <th>579</th>\n",
              "      <td>Die Preissteigerung nach einem Unfall erstaunt...</td>\n",
              "      <td>Unfall,Versicherung,Formular</td>\n",
              "      <td>Unfall</td>\n",
              "      <td>negative</td>\n",
              "      <td>Preis</td>\n",
              "      <td>Versicherung</td>\n",
              "      <td>negative</td>\n",
              "      <td>Problemlösung</td>\n",
              "      <td>Formular</td>\n",
              "      <td>negative</td>\n",
              "      <td>Problemlösung</td>\n",
              "      <td>Problemlösung,Problemlösung,Preis</td>\n",
              "      <td>Formular,Versicherung,Unfall</td>\n",
              "    </tr>\n",
              "    <tr>\n",
              "      <th>580</th>\n",
              "      <td>Sehr hohe Summe die ich nach zahlen musste...</td>\n",
              "      <td>NaN</td>\n",
              "      <td>Summe</td>\n",
              "      <td>negative</td>\n",
              "      <td>Preis</td>\n",
              "      <td>NaN</td>\n",
              "      <td>NaN</td>\n",
              "      <td>NaN</td>\n",
              "      <td>NaN</td>\n",
              "      <td>NaN</td>\n",
              "      <td>NaN</td>\n",
              "      <td>Preis</td>\n",
              "      <td>Summe</td>\n",
              "    </tr>\n",
              "    <tr>\n",
              "      <th>581</th>\n",
              "      <td>Die grüne Versichertenkarte wurde fehlerhaft a...</td>\n",
              "      <td>NaN</td>\n",
              "      <td>Karte</td>\n",
              "      <td>negative</td>\n",
              "      <td>Qualität</td>\n",
              "      <td>Preis</td>\n",
              "      <td>positive</td>\n",
              "      <td>Preis</td>\n",
              "      <td>NaN</td>\n",
              "      <td>NaN</td>\n",
              "      <td>NaN</td>\n",
              "      <td>Preis,Qualität</td>\n",
              "      <td>Preis,Karte</td>\n",
              "    </tr>\n",
              "    <tr>\n",
              "      <th>582</th>\n",
              "      <td>Zu teuer  hochstufung ob wohl es keine war  ic...</td>\n",
              "      <td>Kündigung,Versicherung</td>\n",
              "      <td>Kündigung</td>\n",
              "      <td>negative</td>\n",
              "      <td>Preis</td>\n",
              "      <td>Versicherung</td>\n",
              "      <td>negative</td>\n",
              "      <td>Qualität</td>\n",
              "      <td>NaN</td>\n",
              "      <td>NaN</td>\n",
              "      <td>NaN</td>\n",
              "      <td>Qualität,Preis</td>\n",
              "      <td>Versicherung,Kündigung</td>\n",
              "    </tr>\n",
              "  </tbody>\n",
              "</table>\n",
              "<p>583 rows × 13 columns</p>\n",
              "</div>"
            ],
            "text/plain": [
              "                                              Feedback  ...                     Aspect_new\n",
              "0    Ich war bei einem großen deutschen Versicherun...  ...                  Geld,Beitrag \n",
              "1    Lt. HUK-Schreiben benötige ich die Super-PIN u...  ...                Problem,Bereich\n",
              "2    Bisher eine unkomplizierte Abwicklung - auch i...  ...        Schadensfall,Abwicklung\n",
              "3    Schnelle Beratung und Erstellung der eVB  samt...  ...            Unterlagen,Beratung\n",
              "4    Der Service der RechnungsApp ist super. Die Be...  ...            Bearbeitung,Service\n",
              "..                                                 ...  ...                            ...\n",
              "578  Die telefonische Erreichbarkeit könnte verbess...  ...  Freundlichkeit,Erreichbarkeit\n",
              "579  Die Preissteigerung nach einem Unfall erstaunt...  ...   Formular,Versicherung,Unfall\n",
              "580      Sehr hohe Summe die ich nach zahlen musste...  ...                          Summe\n",
              "581  Die grüne Versichertenkarte wurde fehlerhaft a...  ...                    Preis,Karte\n",
              "582  Zu teuer  hochstufung ob wohl es keine war  ic...  ...         Versicherung,Kündigung\n",
              "\n",
              "[583 rows x 13 columns]"
            ]
          },
          "metadata": {
            "tags": []
          },
          "execution_count": 183
        }
      ]
    },
    {
      "cell_type": "code",
      "metadata": {
        "id": "4XCdagzQxvXm",
        "colab_type": "code",
        "colab": {}
      },
      "source": [
        "def entity_aspect_tuple(my_data):\n",
        "\n",
        "    none_list = [None] * len(my_data)\n",
        "    my_data[\"Entity_Aspect_Tuple\"] = none_list\n",
        "\n",
        "    for ii in range(len(my_data)):\n",
        "        word = my_data[\"Entity\"][ii].lower().split(sep=',')\n",
        "        temp = ()\n",
        "        for x in range(len(word)):\n",
        "            temp += (my_data[\"Aspect_new\"][ii].lower().split(sep=',')[x].rstrip(),word[x])\n",
        "        my_data[\"Entity_Aspect_Tuple\"][ii] = temp\n",
        "\n",
        "    return my_data"
      ],
      "execution_count": 243,
      "outputs": []
    },
    {
      "cell_type": "code",
      "metadata": {
        "id": "5HA3VZ0JzRyY",
        "colab_type": "code",
        "colab": {
          "base_uri": "https://localhost:8080/",
          "height": 34
        },
        "outputId": "41cf882c-7eee-4d35-811e-63990336c12f"
      },
      "source": [
        "my_data[\"Aspect_new\"][ii].lower().split(sep=',')[1].rstrip()\n",
        "my_data[\"Aspect_new\"][580].lower().split(sep=',')\n",
        "#my_data[\"Entity_Aspect_Tuple\"][ii] = temp"
      ],
      "execution_count": 244,
      "outputs": [
        {
          "output_type": "execute_result",
          "data": {
            "text/plain": [
              "['summe']"
            ]
          },
          "metadata": {
            "tags": []
          },
          "execution_count": 244
        }
      ]
    },
    {
      "cell_type": "code",
      "metadata": {
        "id": "bwlLjOyh1j4v",
        "colab_type": "code",
        "colab": {
          "base_uri": "https://localhost:8080/",
          "height": 470
        },
        "outputId": "24de499c-4d14-4f5b-b946-c9c60c2b2f97"
      },
      "source": [
        "entity_aspect_tuple(entity_train)"
      ],
      "execution_count": 245,
      "outputs": [
        {
          "output_type": "stream",
          "text": [
            "/usr/local/lib/python3.6/dist-packages/ipykernel_launcher.py:4: SettingWithCopyWarning: \n",
            "A value is trying to be set on a copy of a slice from a DataFrame.\n",
            "Try using .loc[row_indexer,col_indexer] = value instead\n",
            "\n",
            "See the caveats in the documentation: https://pandas.pydata.org/pandas-docs/stable/user_guide/indexing.html#returning-a-view-versus-a-copy\n",
            "  after removing the cwd from sys.path.\n",
            "/usr/local/lib/python3.6/dist-packages/ipykernel_launcher.py:1: SettingWithCopyWarning: \n",
            "A value is trying to be set on a copy of a slice from a DataFrame\n",
            "\n",
            "See the caveats in the documentation: https://pandas.pydata.org/pandas-docs/stable/user_guide/indexing.html#returning-a-view-versus-a-copy\n",
            "  \"\"\"Entry point for launching an IPython kernel.\n"
          ],
          "name": "stderr"
        },
        {
          "output_type": "error",
          "ename": "AttributeError",
          "evalue": "ignored",
          "traceback": [
            "\u001b[0;31m---------------------------------------------------------------------------\u001b[0m",
            "\u001b[0;31mAttributeError\u001b[0m                            Traceback (most recent call last)",
            "\u001b[0;32m<ipython-input-245-e4fff27afc44>\u001b[0m in \u001b[0;36m<module>\u001b[0;34m()\u001b[0m\n\u001b[0;32m----> 1\u001b[0;31m \u001b[0mentity_aspect_tuple\u001b[0m\u001b[0;34m(\u001b[0m\u001b[0mentity_train\u001b[0m\u001b[0;34m)\u001b[0m\u001b[0;34m\u001b[0m\u001b[0;34m\u001b[0m\u001b[0m\n\u001b[0m",
            "\u001b[0;32m<ipython-input-243-9e6ccf125072>\u001b[0m in \u001b[0;36mentity_aspect_tuple\u001b[0;34m(my_data)\u001b[0m\n\u001b[1;32m      5\u001b[0m \u001b[0;34m\u001b[0m\u001b[0m\n\u001b[1;32m      6\u001b[0m     \u001b[0;32mfor\u001b[0m \u001b[0mii\u001b[0m \u001b[0;32min\u001b[0m \u001b[0mrange\u001b[0m\u001b[0;34m(\u001b[0m\u001b[0mlen\u001b[0m\u001b[0;34m(\u001b[0m\u001b[0mmy_data\u001b[0m\u001b[0;34m)\u001b[0m\u001b[0;34m)\u001b[0m\u001b[0;34m:\u001b[0m\u001b[0;34m\u001b[0m\u001b[0;34m\u001b[0m\u001b[0m\n\u001b[0;32m----> 7\u001b[0;31m         \u001b[0mword\u001b[0m \u001b[0;34m=\u001b[0m \u001b[0mmy_data\u001b[0m\u001b[0;34m[\u001b[0m\u001b[0;34m\"Entity\"\u001b[0m\u001b[0;34m]\u001b[0m\u001b[0;34m[\u001b[0m\u001b[0mii\u001b[0m\u001b[0;34m]\u001b[0m\u001b[0;34m.\u001b[0m\u001b[0mlower\u001b[0m\u001b[0;34m(\u001b[0m\u001b[0;34m)\u001b[0m\u001b[0;34m.\u001b[0m\u001b[0msplit\u001b[0m\u001b[0;34m(\u001b[0m\u001b[0msep\u001b[0m\u001b[0;34m=\u001b[0m\u001b[0;34m','\u001b[0m\u001b[0;34m)\u001b[0m\u001b[0;34m\u001b[0m\u001b[0;34m\u001b[0m\u001b[0m\n\u001b[0m\u001b[1;32m      8\u001b[0m         \u001b[0mtemp\u001b[0m \u001b[0;34m=\u001b[0m \u001b[0;34m(\u001b[0m\u001b[0;34m)\u001b[0m\u001b[0;34m\u001b[0m\u001b[0;34m\u001b[0m\u001b[0m\n\u001b[1;32m      9\u001b[0m         \u001b[0;32mfor\u001b[0m \u001b[0mx\u001b[0m \u001b[0;32min\u001b[0m \u001b[0mrange\u001b[0m\u001b[0;34m(\u001b[0m\u001b[0mlen\u001b[0m\u001b[0;34m(\u001b[0m\u001b[0mword\u001b[0m\u001b[0;34m)\u001b[0m\u001b[0;34m)\u001b[0m\u001b[0;34m:\u001b[0m\u001b[0;34m\u001b[0m\u001b[0;34m\u001b[0m\u001b[0m\n",
            "\u001b[0;31mAttributeError\u001b[0m: 'NoneType' object has no attribute 'lower'"
          ]
        }
      ]
    },
    {
      "cell_type": "markdown",
      "metadata": {
        "id": "1cv4Fv0HloTz",
        "colab_type": "text"
      },
      "source": [
        "## Count aspect and entity frequency"
      ]
    },
    {
      "cell_type": "code",
      "metadata": {
        "id": "M13h64tiOJ9E",
        "colab_type": "code",
        "colab": {}
      },
      "source": [
        "# frequencycount occurence\n",
        "def occurDict(items):\n",
        "    d = {}\n",
        "    for i in items:\n",
        "        if i in d:\n",
        "            d[i] = d[i]+1\n",
        "        else:\n",
        "            d[i] = 1\n",
        "    return d"
      ],
      "execution_count": 175,
      "outputs": []
    },
    {
      "cell_type": "code",
      "metadata": {
        "id": "o08L-ggp-7Yx",
        "colab_type": "code",
        "colab": {}
      },
      "source": [
        "def aspect_entity_frequency(my_data):\n",
        "\n",
        "    sep_aspects = []\n",
        "    aspect_freq_list = []\n",
        "    sep_entities =[]\n",
        "    entity_freq_list = []\n",
        "    #aspect_entity_index_dict =[]\n",
        "\n",
        "\n",
        "    for ii in range(len(my_data)):\n",
        "\n",
        "        if type(my_data.Entity[ii]) == str:\n",
        "            sep_entities += my_data[\"Entity\"][ii].lower().split(sep=',')\n",
        "# this section have to be considered again later.\n",
        "            if type(my_data.Aspect[ii]) == str:\n",
        "               sep_aspects += my_data[\"Aspect_new\"][ii].lower().split(sep=',')\n",
        "            #else:\n",
        "               # add aspect \"no_aspect\" to reviews without any aspect\n",
        "               #tuple_list += [tuple([\"no_entity\", ])]\n",
        "\n",
        "    aspect_freq_dict = occurDict(sep_aspects)\n",
        "    aspect_freq_list = sorted((value,key) for (key,value) in aspect_freq_dict.items())\n",
        "\n",
        "    entity_freq_dict = occurDict(sep_entities)\n",
        "    entity_freq_list = sorted((value,key) for (key,value) in entity_freq_dict.items())\n",
        "          \n",
        "    return sep_aspects,sep_entities,aspect_freq_list,entity_freq_list"
      ],
      "execution_count": 179,
      "outputs": []
    },
    {
      "cell_type": "code",
      "metadata": {
        "id": "mI7pjPik_Wpy",
        "colab_type": "code",
        "colab": {
          "base_uri": "https://localhost:8080/",
          "height": 34
        },
        "outputId": "886ec646-36ac-4c93-9825-f52de6c4c6ed"
      },
      "source": [
        "sep_aspects, sep_entities, aspect_freq_list, entity_freq_list = aspect_entity_frequency(entity_train)\n",
        "[len(set(sep_aspects)), len(sep_aspects)]"
      ],
      "execution_count": 180,
      "outputs": [
        {
          "output_type": "execute_result",
          "data": {
            "text/plain": [
              "[245, 911]"
            ]
          },
          "metadata": {
            "tags": []
          },
          "execution_count": 180
        }
      ]
    },
    {
      "cell_type": "code",
      "metadata": {
        "id": "JNnvqhDYrOiu",
        "colab_type": "code",
        "colab": {
          "base_uri": "https://localhost:8080/",
          "height": 153
        },
        "outputId": "681bb8ce-902d-4aeb-a44e-bda5d024e79f"
      },
      "source": [
        "entity_freq_list"
      ],
      "execution_count": 181,
      "outputs": [
        {
          "output_type": "execute_result",
          "data": {
            "text/plain": [
              "[(30, 'freundlichkeit'),\n",
              " (41, 'kompetenz'),\n",
              " (107, 'beratung'),\n",
              " (138, 'preis'),\n",
              " (146, 'problemlösung'),\n",
              " (188, 'erreichbarkeit'),\n",
              " (367, 'qualität'),\n",
              " (371, 'leistung')]"
            ]
          },
          "metadata": {
            "tags": []
          },
          "execution_count": 181
        }
      ]
    },
    {
      "cell_type": "code",
      "metadata": {
        "id": "xdNACj_DrRgE",
        "colab_type": "code",
        "colab": {
          "base_uri": "https://localhost:8080/",
          "height": 1000
        },
        "outputId": "b840f053-e046-43d9-91c3-62956f044b50"
      },
      "source": [
        "aspect_freq_list"
      ],
      "execution_count": 182,
      "outputs": [
        {
          "output_type": "execute_result",
          "data": {
            "text/plain": [
              "[(1, 'abgewickelt'),\n",
              " (1, 'ablehnung'),\n",
              " (1, 'abzocke'),\n",
              " (1, 'abzüge'),\n",
              " (1, 'agentur'),\n",
              " (1, 'ahnung'),\n",
              " (1, 'akku'),\n",
              " (1, 'anliegen'),\n",
              " (1, 'anmeldung'),\n",
              " (1, 'anruf'),\n",
              " (1, 'anspruch'),\n",
              " (1, 'antwort '),\n",
              " (1, 'argumente'),\n",
              " (1, 'aufbau'),\n",
              " (1, 'aufwand'),\n",
              " (1, 'auswahl'),\n",
              " (1, 'auto'),\n",
              " (1, 'bankverbindung'),\n",
              " (1, 'beantwortung'),\n",
              " (1, 'bedienung'),\n",
              " (1, 'beitrag '),\n",
              " (1, 'benachrichtigung'),\n",
              " (1, 'benzinsparen'),\n",
              " (1, 'berater'),\n",
              " (1, 'berechnung'),\n",
              " (1, 'beschreibung'),\n",
              " (1, 'betrag'),\n",
              " (1, 'bezahlung'),\n",
              " (1, 'bluetoothverbindung'),\n",
              " (1, 'brief'),\n",
              " (1, 'dokumente'),\n",
              " (1, 'eindruck'),\n",
              " (1, 'einstufung'),\n",
              " (1, 'einwandfrei'),\n",
              " (1, 'empfehlung'),\n",
              " (1, 'erfolg'),\n",
              " (1, 'erwartung'),\n",
              " (1, 'fahrt'),\n",
              " (1, 'fahrzeug'),\n",
              " (1, 'feedback '),\n",
              " (1, 'formular'),\n",
              " (1, 'frage'),\n",
              " (1, 'freundlichkeit'),\n",
              " (1, 'funktionert'),\n",
              " (1, 'funktionioniert'),\n",
              " (1, 'führung'),\n",
              " (1, 'haftpflichtschaden'),\n",
              " (1, 'hilfestellung'),\n",
              " (1, 'informationen'),\n",
              " (1, 'internetportal'),\n",
              " (1, 'jahresbeitrag'),\n",
              " (1, 'jahresbetrag'),\n",
              " (1, 'kaskoschaden'),\n",
              " (1, 'kilometer'),\n",
              " (1, 'kilometerstand'),\n",
              " (1, 'klage'),\n",
              " (1, 'konto'),\n",
              " (1, 'korrektur'),\n",
              " (1, 'kunde '),\n",
              " (1, 'kundendienst'),\n",
              " (1, 'ladezeiten'),\n",
              " (1, 'laufen'),\n",
              " (1, 'leistungen'),\n",
              " (1, 'mahnung'),\n",
              " (1, 'mitgliedschaft'),\n",
              " (1, 'mitteilung'),\n",
              " (1, 'nummer'),\n",
              " (1, 'nutzen'),\n",
              " (1, 'nutzer'),\n",
              " (1, 'nutzer '),\n",
              " (1, 'online'),\n",
              " (1, 'online-antrag'),\n",
              " (1, 'option'),\n",
              " (1, 'ordnung'),\n",
              " (1, 'passwort'),\n",
              " (1, 'preis-leistungsverhältnis'),\n",
              " (1, 'privatsphäre'),\n",
              " (1, 'probleme '),\n",
              " (1, 'prozess'),\n",
              " (1, 'punktabzug'),\n",
              " (1, 'rabatt'),\n",
              " (1, 'ranking'),\n",
              " (1, 'rate'),\n",
              " (1, 'reklamation'),\n",
              " (1, 'risiko'),\n",
              " (1, 'sachbearbeiter'),\n",
              " (1, 'schadenabwicklung'),\n",
              " (1, 'schadenmeldung'),\n",
              " (1, 'schadensfreiheitsklasse'),\n",
              " (1, 'schlecht'),\n",
              " (1, 'schreiben'),\n",
              " (1, 'schutz'),\n",
              " (1, 'selbstbehalt'),\n",
              " (1, 'selbstbeteilgung'),\n",
              " (1, 'selbstbeteiligung'),\n",
              " (1, 'sf-klasse'),\n",
              " (1, 'smartphone'),\n",
              " (1, 'stern'),\n",
              " (1, 'stunden'),\n",
              " (1, 'stürzt '),\n",
              " (1, 'suche'),\n",
              " (1, 'system'),\n",
              " (1, 'tag'),\n",
              " (1, 'telefonisch'),\n",
              " (1, 'termin'),\n",
              " (1, 'testen'),\n",
              " (1, 'tipps'),\n",
              " (1, 'unklarheit'),\n",
              " (1, 'verbesserung'),\n",
              " (1, 'verfahren'),\n",
              " (1, 'versicherungsabschluss'),\n",
              " (1, 'versicherungsprämie'),\n",
              " (1, 'versicherungsschutz'),\n",
              " (1, 'versuch'),\n",
              " (1, 'vertragsabwicklung'),\n",
              " (1, 'vertragspartner'),\n",
              " (1, 'vertragsunterlagen'),\n",
              " (1, 'verzögerung'),\n",
              " (1, 'vorgang'),\n",
              " (1, 'wartezeiten'),\n",
              " (1, 'website'),\n",
              " (1, 'wechsl'),\n",
              " (1, 'weiterempfehlen'),\n",
              " (1, 'werkstattbindung'),\n",
              " (1, 'woche'),\n",
              " (1, 'zahlung'),\n",
              " (1, 'zulassungsstelle'),\n",
              " (1, 'zusendung'),\n",
              " (1, 'überweisung'),\n",
              " (2, 'akkuverbrauch'),\n",
              " (2, 'auskunft'),\n",
              " (2, 'beitragserhöhung'),\n",
              " (2, 'bereich'),\n",
              " (2, 'betreuung'),\n",
              " (2, 'bewertungen'),\n",
              " (2, 'erfahrungen'),\n",
              " (2, 'erreichbarkeit'),\n",
              " (2, 'fahrer'),\n",
              " (2, 'fahrten'),\n",
              " (2, 'feedback'),\n",
              " (2, 'funktion'),\n",
              " (2, 'haftpflicht'),\n",
              " (2, 'hinweis'),\n",
              " (2, 'information'),\n",
              " (2, 'klasse'),\n",
              " (2, 'kundenservice'),\n",
              " (2, 'minute'),\n",
              " (2, 'minuten'),\n",
              " (2, 'monat'),\n",
              " (2, 'motorrad'),\n",
              " (2, 'möglichkeit'),\n",
              " (2, 'nachfrage'),\n",
              " (2, 'nachricht'),\n",
              " (2, 'online abschluss'),\n",
              " (2, 'portal'),\n",
              " (2, 'reaktion'),\n",
              " (2, 'rechnung'),\n",
              " (2, 'sachverständiger'),\n",
              " (2, 'schwierigkeiten'),\n",
              " (2, 'sf'),\n",
              " (2, 'tarif'),\n",
              " (2, 'teuer'),\n",
              " (2, 'vergleich'),\n",
              " (2, 'versicherungsschein'),\n",
              " (2, 'vertragsabschluss'),\n",
              " (2, 'warteschleife'),\n",
              " (2, 'zufriedenheit'),\n",
              " (3, 'ablauf'),\n",
              " (3, 'konditionen'),\n",
              " (3, 'meldung'),\n",
              " (3, 'monate'),\n",
              " (3, 'post'),\n",
              " (3, 'prämie'),\n",
              " (3, 'schadensfall'),\n",
              " (3, 'support'),\n",
              " (3, 'teilkasko'),\n",
              " (3, 'vollkasko'),\n",
              " (3, 'widerruf'),\n",
              " (3, 'zulassung'),\n",
              " (3, 'änderung'),\n",
              " (4, 'anfrage'),\n",
              " (4, 'fahrzeugwechsel'),\n",
              " (4, 'hotline'),\n",
              " (4, 'police'),\n",
              " (4, 'reparatur'),\n",
              " (4, 'schadensregulierung'),\n",
              " (4, 'unfall'),\n",
              " (4, 'vorversicherung'),\n",
              " (4, 'wechsel'),\n",
              " (4, 'zeit'),\n",
              " (5, 'anbieter'),\n",
              " (5, 'ansprechpartner'),\n",
              " (5, 'antrag'),\n",
              " (5, 'arbeit'),\n",
              " (5, 'euro'),\n",
              " (5, 'evb'),\n",
              " (5, 'handy'),\n",
              " (5, 'hilfe'),\n",
              " (5, 'kommunikation'),\n",
              " (5, 'leistung'),\n",
              " (6, 'abschluss'),\n",
              " (6, 'bestätigung'),\n",
              " (6, 'daten'),\n",
              " (6, 'kunden'),\n",
              " (6, 'mail'),\n",
              " (6, 'meinung'),\n",
              " (6, 'probleme'),\n",
              " (6, 'tage'),\n",
              " (6, 'unterlagen'),\n",
              " (6, 'werkstatt'),\n",
              " (7, 'erfahrung'),\n",
              " (7, 'internet'),\n",
              " (7, 'kosten'),\n",
              " (7, 'schadensabwicklung'),\n",
              " (7, 'wochen'),\n",
              " (8, 'email'),\n",
              " (8, 'geld'),\n",
              " (9, 'beratung'),\n",
              " (9, 'fehler'),\n",
              " (9, 'kündigung'),\n",
              " (9, 'regulierung'),\n",
              " (9, 'wartezeit'),\n",
              " (10, 'antwort'),\n",
              " (10, 'beitrag'),\n",
              " (10, 'kontakt'),\n",
              " (10, 'mitarbeiter'),\n",
              " (10, 'update'),\n",
              " (11, 'verbindung'),\n",
              " (12, 'idee'),\n",
              " (13, 'bearbeitung'),\n",
              " (13, 'kunde'),\n",
              " (14, 'angebot'),\n",
              " (14, 'unkompliziert'),\n",
              " (15, 'problem'),\n",
              " (15, 'telefon'),\n",
              " (16, 'preis'),\n",
              " (18, 'service'),\n",
              " (20, 'funktioniert'),\n",
              " (21, 'kfz'),\n",
              " (22, 'bewertung'),\n",
              " (23, 'vertrag'),\n",
              " (26, 'versicherung'),\n",
              " (28, 'schaden'),\n",
              " (29, 'abwicklung'),\n",
              " (61, 'app')]"
            ]
          },
          "metadata": {
            "tags": []
          },
          "execution_count": 182
        }
      ]
    },
    {
      "cell_type": "markdown",
      "metadata": {
        "id": "htukfkY8R3cN",
        "colab_type": "text"
      },
      "source": [
        "##creat entity-aspect pairs"
      ]
    },
    {
      "cell_type": "markdown",
      "metadata": {
        "id": "WqwC7U8_sGYk",
        "colab_type": "text"
      },
      "source": [
        "entity-aspect assigner"
      ]
    },
    {
      "cell_type": "code",
      "metadata": {
        "id": "YFJoSUuOsFBm",
        "colab_type": "code",
        "colab": {}
      },
      "source": [
        "def entity_aspect_assigner(my_data):\n",
        "\n",
        "   return "
      ],
      "execution_count": null,
      "outputs": []
    },
    {
      "cell_type": "code",
      "metadata": {
        "id": "_dfjhuxTEZy9",
        "colab_type": "code",
        "colab": {}
      },
      "source": [
        "nones = np.zeros(shape=(0,10))\n",
        "data = pd.DataFrame(nones, columns=[\"Aspect\", \"Aspect_Freq\", \n",
        "                                    \"Beratung\", \"Erreichbarkeit\", \"Freundlichkeit\", \"Kompetenz\", \n",
        "                                    \"Qualität\", \"Preis\",\"Leistung/Nutzung\", \"Anforderung\"])"
      ],
      "execution_count": 127,
      "outputs": []
    },
    {
      "cell_type": "code",
      "metadata": {
        "id": "VhH4sHJ4OjnO",
        "colab_type": "code",
        "colab": {
          "base_uri": "https://localhost:8080/",
          "height": 419
        },
        "outputId": "1de2e8fe-4e45-4125-d74d-0335c8096b85"
      },
      "source": [
        "data =pd.DataFrame(aspect_freq_list,columns=['Aspect_Freq','Aspect'])\n",
        "data=data.assign(Beratung =\"\", Erreichbarkeit=\"\", Freundlichkeit=\"\", Kompetenz=\"\", Qualität=\"\", Preis=\"\",Problemlösung=\"\", Anforderung=\"\")"
      ],
      "execution_count": 158,
      "outputs": [
        {
          "output_type": "execute_result",
          "data": {
            "text/html": [
              "<div>\n",
              "<style scoped>\n",
              "    .dataframe tbody tr th:only-of-type {\n",
              "        vertical-align: middle;\n",
              "    }\n",
              "\n",
              "    .dataframe tbody tr th {\n",
              "        vertical-align: top;\n",
              "    }\n",
              "\n",
              "    .dataframe thead th {\n",
              "        text-align: right;\n",
              "    }\n",
              "</style>\n",
              "<table border=\"1\" class=\"dataframe\">\n",
              "  <thead>\n",
              "    <tr style=\"text-align: right;\">\n",
              "      <th></th>\n",
              "      <th>Aspect_Freq</th>\n",
              "      <th>Aspect</th>\n",
              "      <th>Beratung</th>\n",
              "      <th>Erreichbarkeit</th>\n",
              "      <th>Freundlichkeit</th>\n",
              "      <th>Kompetenz</th>\n",
              "      <th>Qualität</th>\n",
              "      <th>Preis</th>\n",
              "      <th>Problemlösung</th>\n",
              "      <th>Anforderung</th>\n",
              "    </tr>\n",
              "  </thead>\n",
              "  <tbody>\n",
              "    <tr>\n",
              "      <th>0</th>\n",
              "      <td>1</td>\n",
              "      <td>mitarbeiter</td>\n",
              "      <td></td>\n",
              "      <td></td>\n",
              "      <td></td>\n",
              "      <td></td>\n",
              "      <td></td>\n",
              "      <td></td>\n",
              "      <td></td>\n",
              "      <td></td>\n",
              "    </tr>\n",
              "    <tr>\n",
              "      <th>1</th>\n",
              "      <td>1</td>\n",
              "      <td>abzocke</td>\n",
              "      <td></td>\n",
              "      <td></td>\n",
              "      <td></td>\n",
              "      <td></td>\n",
              "      <td></td>\n",
              "      <td></td>\n",
              "      <td></td>\n",
              "      <td></td>\n",
              "    </tr>\n",
              "    <tr>\n",
              "      <th>2</th>\n",
              "      <td>1</td>\n",
              "      <td>abzüge</td>\n",
              "      <td></td>\n",
              "      <td></td>\n",
              "      <td></td>\n",
              "      <td></td>\n",
              "      <td></td>\n",
              "      <td></td>\n",
              "      <td></td>\n",
              "      <td></td>\n",
              "    </tr>\n",
              "    <tr>\n",
              "      <th>3</th>\n",
              "      <td>1</td>\n",
              "      <td>alte</td>\n",
              "      <td></td>\n",
              "      <td></td>\n",
              "      <td></td>\n",
              "      <td></td>\n",
              "      <td></td>\n",
              "      <td></td>\n",
              "      <td></td>\n",
              "      <td></td>\n",
              "    </tr>\n",
              "    <tr>\n",
              "      <th>4</th>\n",
              "      <td>1</td>\n",
              "      <td>angegeben</td>\n",
              "      <td></td>\n",
              "      <td></td>\n",
              "      <td></td>\n",
              "      <td></td>\n",
              "      <td></td>\n",
              "      <td></td>\n",
              "      <td></td>\n",
              "      <td></td>\n",
              "    </tr>\n",
              "    <tr>\n",
              "      <th>...</th>\n",
              "      <td>...</td>\n",
              "      <td>...</td>\n",
              "      <td>...</td>\n",
              "      <td>...</td>\n",
              "      <td>...</td>\n",
              "      <td>...</td>\n",
              "      <td>...</td>\n",
              "      <td>...</td>\n",
              "      <td>...</td>\n",
              "      <td>...</td>\n",
              "    </tr>\n",
              "    <tr>\n",
              "      <th>191</th>\n",
              "      <td>25</td>\n",
              "      <td>funktioniert</td>\n",
              "      <td></td>\n",
              "      <td></td>\n",
              "      <td></td>\n",
              "      <td></td>\n",
              "      <td></td>\n",
              "      <td></td>\n",
              "      <td></td>\n",
              "      <td></td>\n",
              "    </tr>\n",
              "    <tr>\n",
              "      <th>192</th>\n",
              "      <td>27</td>\n",
              "      <td>abwicklung</td>\n",
              "      <td></td>\n",
              "      <td></td>\n",
              "      <td></td>\n",
              "      <td></td>\n",
              "      <td></td>\n",
              "      <td></td>\n",
              "      <td></td>\n",
              "      <td></td>\n",
              "    </tr>\n",
              "    <tr>\n",
              "      <th>193</th>\n",
              "      <td>33</td>\n",
              "      <td>kfz</td>\n",
              "      <td></td>\n",
              "      <td></td>\n",
              "      <td></td>\n",
              "      <td></td>\n",
              "      <td></td>\n",
              "      <td></td>\n",
              "      <td></td>\n",
              "      <td></td>\n",
              "    </tr>\n",
              "    <tr>\n",
              "      <th>194</th>\n",
              "      <td>60</td>\n",
              "      <td>versicherung</td>\n",
              "      <td></td>\n",
              "      <td></td>\n",
              "      <td></td>\n",
              "      <td></td>\n",
              "      <td></td>\n",
              "      <td></td>\n",
              "      <td></td>\n",
              "      <td></td>\n",
              "    </tr>\n",
              "    <tr>\n",
              "      <th>195</th>\n",
              "      <td>62</td>\n",
              "      <td>app</td>\n",
              "      <td></td>\n",
              "      <td></td>\n",
              "      <td></td>\n",
              "      <td></td>\n",
              "      <td></td>\n",
              "      <td></td>\n",
              "      <td></td>\n",
              "      <td></td>\n",
              "    </tr>\n",
              "  </tbody>\n",
              "</table>\n",
              "<p>196 rows × 10 columns</p>\n",
              "</div>"
            ],
            "text/plain": [
              "     Aspect_Freq        Aspect Beratung  ... Preis Problemlösung Anforderung\n",
              "0              1   mitarbeiter           ...                                \n",
              "1              1       abzocke           ...                                \n",
              "2              1        abzüge           ...                                \n",
              "3              1          alte           ...                                \n",
              "4              1     angegeben           ...                                \n",
              "..           ...           ...      ...  ...   ...           ...         ...\n",
              "191           25  funktioniert           ...                                \n",
              "192           27    abwicklung           ...                                \n",
              "193           33           kfz           ...                                \n",
              "194           60  versicherung           ...                                \n",
              "195           62           app           ...                                \n",
              "\n",
              "[196 rows x 10 columns]"
            ]
          },
          "metadata": {
            "tags": []
          },
          "execution_count": 158
        }
      ]
    },
    {
      "cell_type": "code",
      "metadata": {
        "id": "YHzM_AjPQ_hL",
        "colab_type": "code",
        "colab": {
          "base_uri": "https://localhost:8080/",
          "height": 34
        },
        "outputId": "7c8563c6-d10a-48ee-f65a-cbceca6d10f3"
      },
      "source": [
        "for ii in range(len(entity_train)):\n",
        "  if entity_train."
      ],
      "execution_count": 183,
      "outputs": [
        {
          "output_type": "execute_result",
          "data": {
            "text/plain": [
              "583"
            ]
          },
          "metadata": {
            "tags": []
          },
          "execution_count": 183
        }
      ]
    },
    {
      "cell_type": "markdown",
      "metadata": {
        "id": "2rli5n-_Y7-N",
        "colab_type": "text"
      },
      "source": [
        "#Create aspect list and tuples"
      ]
    },
    {
      "cell_type": "code",
      "metadata": {
        "id": "OtJhnlsfYume",
        "colab_type": "code",
        "colab": {}
      },
      "source": [
        "def aspect_tuple_generator(my_data):\n",
        "\n",
        "    sep_aspects = []\n",
        "    tuple_list = []\n",
        "\n",
        "    for ii in range(len(my_data)):\n",
        "\n",
        "        if type(my_data.Aspect[ii]) == str:\n",
        "            sep_aspects += my_data[\"Aspect\"][ii].lower().split(sep=',')\n",
        "            # split list of aspects and make a tuple out of them\n",
        "            tuple_list += [tuple(my_data.Aspect[ii].lower().split(sep=','))]\n",
        "        else:\n",
        "            # add aspect \"no_aspect\" to reviews without any aspect\n",
        "            tuple_list += [tuple([\"no_aspect\", ])]\n",
        "          \n",
        "    return sep_aspects, tuple_list"
      ],
      "execution_count": null,
      "outputs": []
    },
    {
      "cell_type": "code",
      "metadata": {
        "id": "my_Ph4OEY5rx",
        "colab_type": "code",
        "colab": {}
      },
      "source": [
        "sep_aspects, aspects_in_tuples = aspect_tuple_generator(kfz_data)"
      ],
      "execution_count": null,
      "outputs": []
    },
    {
      "cell_type": "markdown",
      "metadata": {
        "id": "8eOIaPG9eOvX",
        "colab_type": "text"
      },
      "source": [
        "##Get List of rare Aspects"
      ]
    },
    {
      "cell_type": "code",
      "metadata": {
        "colab_type": "code",
        "id": "VeXoZZDwAHq4",
        "colab": {}
      },
      "source": [
        "def aspect_list_cleaner(min_appearance_freq):\n",
        "\n",
        "    # create a frequency list for aspects and separate into two lists: \n",
        "    # cleaned_aspect_list & rare_aspect_list\n",
        "\n",
        "    aspect_freq_list = [[x,sep_aspects.count(x)] for x in set(sep_aspects)]\n",
        "\n",
        "    cleaned_aspect_list = [] \n",
        "    rare_aspect_list = []\n",
        "\n",
        "    for ii in range(len(aspect_freq_list)):\n",
        "\n",
        "        # each aspect has to appear at least min_appearance_freq time within\n",
        "        # the data to stay in the cleaned_aspect_list\n",
        "        # if min_appearance_freq = 1, no aspects are removed\n",
        "        if aspect_freq_list[ii][1] < min_appearance_freq: \n",
        "            rare_aspect_list += aspect_freq_list[ii][0:-1]\n",
        "        else:\n",
        "            cleaned_aspect_list += aspect_freq_list[ii][0:-1]\n",
        "    \n",
        "    return aspect_freq_list, cleaned_aspect_list, rare_aspect_list"
      ],
      "execution_count": 138,
      "outputs": []
    },
    {
      "cell_type": "code",
      "metadata": {
        "id": "GluJ4mHcBYWS",
        "colab_type": "code",
        "colab": {}
      },
      "source": [
        "#Choose how often an aspect has to appear at least.\n",
        "MIN_APP_FREQ = 1\n",
        "aspect_freq_list, cleaned_aspect_list, rare_aspect_list = aspect_list_cleaner(MIN_APP_FREQ)\n",
        "# Check length of separated lists\n",
        "[len(cleaned_aspect_list),len(rare_aspect_list)]"
      ],
      "execution_count": null,
      "outputs": []
    },
    {
      "cell_type": "markdown",
      "metadata": {
        "id": "J7Hr8VOKeYtl",
        "colab_type": "text"
      },
      "source": [
        "##Remove rare aspects from tuple List"
      ]
    },
    {
      "cell_type": "code",
      "metadata": {
        "id": "rUsK3I7fP9aD",
        "colab_type": "code",
        "colab": {}
      },
      "source": [
        "def rare_aspect_remover(tuple_list, rare_aspect_list):\n",
        "\n",
        "    # create a new tuple_list: cleaned_aspects, removing rare aspects that just appear once\n",
        "    cleaned_aspects = [None] * len(tuple_list)\n",
        "\n",
        "    for ii in range(len(tuple_list)):\n",
        "        cleaned_aspects[ii] = tuple()\n",
        "        for ind in tuple_list[ii]:\n",
        "            if ind not in rare_aspect_list:\n",
        "                cleaned_aspects[ii] += tuple([ind])\n",
        "        # if the removed aspect was the only aspect, we need to label it \"no_aspect\"\n",
        "        if cleaned_aspects[ii] == ():\n",
        "            cleaned_aspects[ii] = tuple([\"no_aspect\", ])\n",
        "    \n",
        "    return cleaned_aspects"
      ],
      "execution_count": 142,
      "outputs": []
    },
    {
      "cell_type": "code",
      "metadata": {
        "id": "2HA5qSnKFL26",
        "colab_type": "code",
        "colab": {}
      },
      "source": [
        "cleaned_aspects = rare_aspect_remover(aspects_in_tuples, rare_aspect_list)"
      ],
      "execution_count": null,
      "outputs": []
    },
    {
      "cell_type": "markdown",
      "metadata": {
        "id": "jdTF2rO8lkcC",
        "colab_type": "text"
      },
      "source": [
        "Add columns to data set"
      ]
    },
    {
      "cell_type": "code",
      "metadata": {
        "id": "F_0XVzfHbUlv",
        "colab_type": "code",
        "colab": {}
      },
      "source": [
        "def aspect_encoder(my_data, cleaned_aspects):\n",
        "\n",
        "    none_list = [None] * len(cleaned_aspects)\n",
        "    tuple_df = pd.DataFrame(none_list, columns=[\"Tuples\"])\n",
        "    tuple_df.Tuples = cleaned_aspects\n",
        "\n",
        "    my_data[\"Cleaned_Aspects\"] = tuple_df.Tuples\n",
        "\n",
        "    mlb = MultiLabelBinarizer()\n",
        "    encoded_aspects = mlb.fit_transform(my_data[\"Cleaned_Aspects\"])\n",
        "    aspect_table = pd.DataFrame(encoded_aspects, columns=mlb.classes_)\n",
        "\n",
        "    my_data[\"Aspect_Encoding\"] = aspect_table.values.tolist()\n",
        "\n",
        "    return my_data, aspect_table, mlb.classes_"
      ],
      "execution_count": null,
      "outputs": []
    },
    {
      "cell_type": "code",
      "metadata": {
        "id": "jTW6x9K_b6gV",
        "colab_type": "code",
        "colab": {}
      },
      "source": [
        "kfz_data, aspect_table, aspects = aspect_encoder(kfz_data, cleaned_aspects)"
      ],
      "execution_count": null,
      "outputs": []
    }
  ]
}